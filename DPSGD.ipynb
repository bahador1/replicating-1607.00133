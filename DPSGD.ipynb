{
 "cells": [
  {
   "cell_type": "markdown",
   "metadata": {
    "toc": true
   },
   "source": [
    "<h1>Table of Contents<span class=\"tocSkip\"></span></h1>\n",
    "<div class=\"toc\"><ul class=\"toc-item\"></ul></div>"
   ]
  },
  {
   "cell_type": "code",
   "execution_count": 1,
   "metadata": {
    "colab": {
     "base_uri": "https://localhost:8080/",
     "height": 407
    },
    "id": "gvO2bSN9w5qH",
    "outputId": "2759cb5e-8021-4677-f15e-f6326286496e"
   },
   "outputs": [
    {
     "name": "stdout",
     "output_type": "stream",
     "text": [
      "Cloning into 'pyvacy'...\n",
      "remote: Enumerating objects: 27, done.\u001b[K\n",
      "remote: Counting objects: 100% (27/27), done.\u001b[K\n",
      "remote: Compressing objects: 100% (22/22), done.\u001b[K\n",
      "remote: Total 81 (delta 7), reused 22 (delta 5), pack-reused 54\u001b[K\n",
      "Unpacking objects: 100% (81/81), done.\n",
      "Collecting diffprivlib\n",
      "\u001b[?25l  Downloading https://files.pythonhosted.org/packages/fe/b8/852409057d6acc060f06cac8d0a45b73dfa54ee4fbd1577c9a7d755e9fb6/diffprivlib-0.3.0.tar.gz (70kB)\n",
      "\u001b[K     |████████████████████████████████| 71kB 2.0MB/s \n",
      "\u001b[?25hRequirement already satisfied: numpy>=1.15.0 in /usr/local/lib/python3.6/dist-packages (from diffprivlib) (1.18.5)\n",
      "Requirement already satisfied: setuptools>=39.0.1 in /usr/local/lib/python3.6/dist-packages (from diffprivlib) (50.3.0)\n",
      "Requirement already satisfied: scikit-learn>=0.22.0 in /usr/local/lib/python3.6/dist-packages (from diffprivlib) (0.22.2.post1)\n",
      "Requirement already satisfied: scipy>=1.2.1 in /usr/local/lib/python3.6/dist-packages (from diffprivlib) (1.4.1)\n",
      "Requirement already satisfied: joblib>=0.11 in /usr/local/lib/python3.6/dist-packages (from diffprivlib) (0.16.0)\n",
      "Building wheels for collected packages: diffprivlib\n",
      "  Building wheel for diffprivlib (setup.py) ... \u001b[?25l\u001b[?25hdone\n",
      "  Created wheel for diffprivlib: filename=diffprivlib-0.3.0-cp36-none-any.whl size=138999 sha256=8a94a3517fe91dc1a701f2f86640ee78d5a3a8e326d2807fff77ac82f56e070a\n",
      "  Stored in directory: /root/.cache/pip/wheels/64/68/62/617183f73d3feceab2c9d4081714a27bc11be5bb3f10f59b8a\n",
      "Successfully built diffprivlib\n",
      "Installing collected packages: diffprivlib\n",
      "Successfully installed diffprivlib-0.3.0\n",
      "\u001b[0m\u001b[01;34mpyvacy\u001b[0m/  \u001b[01;34msample_data\u001b[0m/\n"
     ]
    }
   ],
   "source": [
    "!git clone https://github.com/ChrisWaites/pyvacy\n",
    "!pip install diffprivlib\n",
    "%ls"
   ]
  },
  {
   "cell_type": "code",
   "execution_count": 2,
   "metadata": {
    "colab": {
     "base_uri": "https://localhost:8080/",
     "height": 1000
    },
    "id": "pbogFcpow-u_",
    "outputId": "425a4cb9-1d06-479f-a938-5974bab8557c"
   },
   "outputs": [
    {
     "name": "stdout",
     "output_type": "stream",
     "text": [
      "/content/pyvacy\n",
      "running install\n",
      "running bdist_egg\n",
      "running egg_info\n",
      "creating pyvacy.egg-info\n",
      "writing pyvacy.egg-info/PKG-INFO\n",
      "writing dependency_links to pyvacy.egg-info/dependency_links.txt\n",
      "writing requirements to pyvacy.egg-info/requires.txt\n",
      "writing top-level names to pyvacy.egg-info/top_level.txt\n",
      "writing manifest file 'pyvacy.egg-info/SOURCES.txt'\n",
      "writing manifest file 'pyvacy.egg-info/SOURCES.txt'\n",
      "installing library code to build/bdist.linux-x86_64/egg\n",
      "running install_lib\n",
      "running build_py\n",
      "creating build\n",
      "creating build/lib\n",
      "creating build/lib/pyvacy\n",
      "copying pyvacy/__init__.py -> build/lib/pyvacy\n",
      "creating build/lib/pyvacy/analysis\n",
      "copying pyvacy/analysis/rdp_accountant.py -> build/lib/pyvacy/analysis\n",
      "copying pyvacy/analysis/subsampled.py -> build/lib/pyvacy/analysis\n",
      "copying pyvacy/analysis/epsilon_calculation.py -> build/lib/pyvacy/analysis\n",
      "copying pyvacy/analysis/__init__.py -> build/lib/pyvacy/analysis\n",
      "copying pyvacy/analysis/moments_accountant.py -> build/lib/pyvacy/analysis\n",
      "creating build/lib/pyvacy/sampling\n",
      "copying pyvacy/sampling/__init__.py -> build/lib/pyvacy/sampling\n",
      "copying pyvacy/sampling/batch_samplers.py -> build/lib/pyvacy/sampling\n",
      "creating build/lib/pyvacy/optim\n",
      "copying pyvacy/optim/__init__.py -> build/lib/pyvacy/optim\n",
      "copying pyvacy/optim/dp_optimizer.py -> build/lib/pyvacy/optim\n",
      "creating build/bdist.linux-x86_64\n",
      "creating build/bdist.linux-x86_64/egg\n",
      "creating build/bdist.linux-x86_64/egg/pyvacy\n",
      "creating build/bdist.linux-x86_64/egg/pyvacy/analysis\n",
      "copying build/lib/pyvacy/analysis/rdp_accountant.py -> build/bdist.linux-x86_64/egg/pyvacy/analysis\n",
      "copying build/lib/pyvacy/analysis/subsampled.py -> build/bdist.linux-x86_64/egg/pyvacy/analysis\n",
      "copying build/lib/pyvacy/analysis/epsilon_calculation.py -> build/bdist.linux-x86_64/egg/pyvacy/analysis\n",
      "copying build/lib/pyvacy/analysis/__init__.py -> build/bdist.linux-x86_64/egg/pyvacy/analysis\n",
      "copying build/lib/pyvacy/analysis/moments_accountant.py -> build/bdist.linux-x86_64/egg/pyvacy/analysis\n",
      "copying build/lib/pyvacy/__init__.py -> build/bdist.linux-x86_64/egg/pyvacy\n",
      "creating build/bdist.linux-x86_64/egg/pyvacy/sampling\n",
      "copying build/lib/pyvacy/sampling/__init__.py -> build/bdist.linux-x86_64/egg/pyvacy/sampling\n",
      "copying build/lib/pyvacy/sampling/batch_samplers.py -> build/bdist.linux-x86_64/egg/pyvacy/sampling\n",
      "creating build/bdist.linux-x86_64/egg/pyvacy/optim\n",
      "copying build/lib/pyvacy/optim/__init__.py -> build/bdist.linux-x86_64/egg/pyvacy/optim\n",
      "copying build/lib/pyvacy/optim/dp_optimizer.py -> build/bdist.linux-x86_64/egg/pyvacy/optim\n",
      "byte-compiling build/bdist.linux-x86_64/egg/pyvacy/analysis/rdp_accountant.py to rdp_accountant.cpython-36.pyc\n",
      "byte-compiling build/bdist.linux-x86_64/egg/pyvacy/analysis/subsampled.py to subsampled.cpython-36.pyc\n",
      "byte-compiling build/bdist.linux-x86_64/egg/pyvacy/analysis/epsilon_calculation.py to epsilon_calculation.cpython-36.pyc\n",
      "byte-compiling build/bdist.linux-x86_64/egg/pyvacy/analysis/__init__.py to __init__.cpython-36.pyc\n",
      "byte-compiling build/bdist.linux-x86_64/egg/pyvacy/analysis/moments_accountant.py to moments_accountant.cpython-36.pyc\n",
      "byte-compiling build/bdist.linux-x86_64/egg/pyvacy/__init__.py to __init__.cpython-36.pyc\n",
      "byte-compiling build/bdist.linux-x86_64/egg/pyvacy/sampling/__init__.py to __init__.cpython-36.pyc\n",
      "byte-compiling build/bdist.linux-x86_64/egg/pyvacy/sampling/batch_samplers.py to batch_samplers.cpython-36.pyc\n",
      "byte-compiling build/bdist.linux-x86_64/egg/pyvacy/optim/__init__.py to __init__.cpython-36.pyc\n",
      "byte-compiling build/bdist.linux-x86_64/egg/pyvacy/optim/dp_optimizer.py to dp_optimizer.cpython-36.pyc\n",
      "creating build/bdist.linux-x86_64/egg/EGG-INFO\n",
      "copying pyvacy.egg-info/PKG-INFO -> build/bdist.linux-x86_64/egg/EGG-INFO\n",
      "copying pyvacy.egg-info/SOURCES.txt -> build/bdist.linux-x86_64/egg/EGG-INFO\n",
      "copying pyvacy.egg-info/dependency_links.txt -> build/bdist.linux-x86_64/egg/EGG-INFO\n",
      "copying pyvacy.egg-info/requires.txt -> build/bdist.linux-x86_64/egg/EGG-INFO\n",
      "copying pyvacy.egg-info/top_level.txt -> build/bdist.linux-x86_64/egg/EGG-INFO\n"
     ]
    },
    {
     "name": "stderr",
     "output_type": "stream",
     "text": [
      "zip_safe flag not set; analyzing archive contents...\n"
     ]
    },
    {
     "name": "stdout",
     "output_type": "stream",
     "text": [
      "creating dist\n",
      "creating 'dist/pyvacy-0.0.1-py3.6.egg' and adding 'build/bdist.linux-x86_64/egg' to it\n",
      "removing 'build/bdist.linux-x86_64/egg' (and everything under it)\n",
      "Processing pyvacy-0.0.1-py3.6.egg\n",
      "Copying pyvacy-0.0.1-py3.6.egg to /usr/local/lib/python3.6/dist-packages\n",
      "Adding pyvacy 0.0.1 to easy-install.pth file\n",
      "\n",
      "Installed /usr/local/lib/python3.6/dist-packages/pyvacy-0.0.1-py3.6.egg\n",
      "Processing dependencies for pyvacy==0.0.1\n",
      "Searching for torch-vision\n",
      "Reading https://pypi.org/simple/torch-vision/\n",
      "Downloading https://files.pythonhosted.org/packages/ea/13/4942860c32f6877def97c0b432348adce870ae613ed4eb1de10cae0bb018/torch_vision-0.1.6.dev0-py2.py3-none-any.whl#sha256=e5292127b8d9e4b211fdf1a030e61fa56a2f537fe8306963618be6b61d65a80d\n",
      "Best match: torch-vision 0.1.6.dev0\n",
      "Processing torch_vision-0.1.6.dev0-py2.py3-none-any.whl\n",
      "Installing torch_vision-0.1.6.dev0-py2.py3-none-any.whl to /usr/local/lib/python3.6/dist-packages\n",
      "Adding torch-vision 0.1.6.dev0 to easy-install.pth file\n",
      "\n",
      "Installed /usr/local/lib/python3.6/dist-packages/torch_vision-0.1.6.dev0-py3.6.egg\n",
      "Searching for torch==1.6.0+cu101\n",
      "Best match: torch 1.6.0+cu101\n",
      "Adding torch 1.6.0+cu101 to easy-install.pth file\n",
      "Installing convert-caffe2-to-onnx script to /usr/local/bin\n",
      "Installing convert-onnx-to-caffe2 script to /usr/local/bin\n",
      "\n",
      "Using /usr/local/lib/python3.6/dist-packages\n",
      "Searching for numpy==1.18.5\n",
      "Best match: numpy 1.18.5\n",
      "Adding numpy 1.18.5 to easy-install.pth file\n",
      "Installing f2py script to /usr/local/bin\n",
      "Installing f2py3 script to /usr/local/bin\n",
      "Installing f2py3.6 script to /usr/local/bin\n",
      "\n",
      "Using /usr/local/lib/python3.6/dist-packages\n",
      "Searching for future==0.16.0\n",
      "Best match: future 0.16.0\n",
      "Adding future 0.16.0 to easy-install.pth file\n",
      "Installing futurize script to /usr/local/bin\n",
      "Installing pasteurize script to /usr/local/bin\n",
      "\n",
      "Using /usr/local/lib/python3.6/dist-packages\n",
      "Finished processing dependencies for pyvacy==0.0.1\n"
     ]
    }
   ],
   "source": [
    "%cd pyvacy\n",
    "%run setup.py install\n"
   ]
  },
  {
   "cell_type": "code",
   "execution_count": 3,
   "metadata": {
    "id": "1WPE31uEUMEk"
   },
   "outputs": [],
   "source": [
    "import diffprivlib\n",
    "import sys\n",
    "\n",
    "import argparse\n",
    "import numpy as np\n",
    "\n",
    "import torch\n",
    "import torch.nn as nn\n",
    "from torch.utils.data import TensorDataset\n",
    "from torchvision import datasets, transforms\n",
    "\n",
    "from pyvacy import optim, analysis, sampling\n",
    "import matplotlib.pyplot as plt"
   ]
  },
  {
   "cell_type": "code",
   "execution_count": null,
   "metadata": {
    "colab": {
     "base_uri": "https://localhost:8080/",
     "height": 328
    },
    "id": "bBgto7Bf1KlY",
    "outputId": "bad6728b-b0a2-48ca-ab05-6b88cd9201f9"
   },
   "outputs": [
    {
     "name": "stderr",
     "output_type": "stream",
     "text": [
      "/usr/local/lib/python3.6/dist-packages/torchvision/datasets/mnist.py:55: UserWarning: train_data has been renamed data\n",
      "  warnings.warn(\"train_data has been renamed data\")\n"
     ]
    },
    {
     "data": {
      "image/png": "[encoded data removed]",
      "text/plain": [
       "<Figure size 432x288 with 1 Axes>"
      ]
     },
     "metadata": {
      "needs_background": "light",
      "tags": []
     },
     "output_type": "display_data"
    }
   ],
   "source": [
    "train_dataset = datasets.MNIST('data/mnist',\n",
    "        train=True,\n",
    "        download=True,\n",
    "        transform=transforms.Compose([\n",
    "          transforms.ToTensor(),\n",
    "          transforms.Normalize((0.5,), (0.5,))]))#.train_data\n",
    "\n",
    "\n",
    "\n",
    "X = train_dataset.train_data.view(-1, 28*28)\n",
    "y = train_dataset.targets\n",
    "\n",
    "plt.title(f'Label={y[0]}', size=30)\n",
    "plt.imshow(X[0].view(28, 28), cmap='gray');"
   ]
  },
  {
   "cell_type": "code",
   "execution_count": null,
   "metadata": {
    "colab": {
     "base_uri": "https://localhost:8080/",
     "height": 35
    },
    "id": "qldM6Od3Di2H",
    "outputId": "54678d97-a6c2-4f0d-d534-17a429ae76e7"
   },
   "outputs": [
    {
     "data": {
      "text/plain": [
       "torch.Size([10000, 28, 28])"
      ]
     },
     "execution_count": 94,
     "metadata": {
      "tags": []
     },
     "output_type": "execute_result"
    }
   ],
   "source": [
    "dataset = datasets.MNIST('data/mnist',\n",
    "        train=False,\n",
    "        download=True,\n",
    "        transform=transforms.Compose([\n",
    "          transforms.ToTensor(),\n",
    "          transforms.Normalize((0.5,), (0.5,))]))\n",
    "\n",
    "dataset.data.shape"
   ]
  },
  {
   "cell_type": "code",
   "execution_count": 27,
   "metadata": {
    "id": "15LAryJNzaHq"
   },
   "outputs": [],
   "source": [
    "def mnist_private_pca(epsilon=4):\n",
    "    train = datasets.MNIST('data/mnist',\n",
    "            train=True,\n",
    "            download=True,\n",
    "            transform=transforms.Compose([\n",
    "              transforms.ToTensor(),\n",
    "              transforms.Normalize((0.5,), (0.5,))]))#.train_data\n",
    "\n",
    "    test = datasets.MNIST('data/mnist',\n",
    "            train=False,\n",
    "            download=True,\n",
    "            transform=transforms.Compose([\n",
    "              transforms.ToTensor(),\n",
    "              transforms.Normalize((0.5,), (0.5,))]))#.train_data\n",
    "\n",
    "    X_train = train.data.view(-1, 28*28)\n",
    "    y_train = train.targets\n",
    "\n",
    "    X_test = test.data.view(-1, 28*28)\n",
    "    y_test = test.targets\n",
    "\n",
    "    DPPCA = diffprivlib.models.pca.PCA(n_components=30,centered=True, epsilon=epsilon)\n",
    "    X_train_pc = DPPCA.fit_transform(X_train)\n",
    "    X_train_pc = torch.Tensor(X_train_pc).view(-1, 30)\n",
    "\n",
    "    X_test_pc = DPPCA.transform(X_test)\n",
    "    X_test_pc = torch.Tensor(X_test_pc).view(-1, 30)\n",
    "    return X_train_pc, y_train, X_test_pc, y_test\n",
    "\n",
    "\n"
   ]
  },
  {
   "cell_type": "code",
   "execution_count": 28,
   "metadata": {
    "id": "xHQtVVoD1Ync"
   },
   "outputs": [],
   "source": [
    "import tqdm\n",
    "\n",
    "class simpleClf(nn.Module):\n",
    "    def __init__(self, device='cpu'):\n",
    "        super(simpleClf, self).__init__()\n",
    "        self.model = nn.Sequential(\n",
    "            nn.Linear(30, 128),\n",
    "            nn.ReLU(),\n",
    "            nn.Linear(128, 10),\n",
    "            nn.LogSoftmax(dim=1)\n",
    "        ).to(device)\n",
    "\n",
    "    def forward(self, x):\n",
    "        return self.model(x)\n",
    "\n",
    "def train(dataset, optimizer, clf, loss_function, params):\n",
    "\n",
    "    minibatch_loader, microbatch_loader = sampling.get_data_loaders(\n",
    "          params['minibatch_size'],\n",
    "          params['microbatch_size'],\n",
    "          params['iterations']\n",
    "      )\n",
    "\n",
    "    iteration = 0\n",
    "    for X_minibatch, y_minibatch in minibatch_loader(dataset):\n",
    "      optimizer.zero_grad()\n",
    "      # running_loss = 0\n",
    "      for X_microbatch, y_microbatch in microbatch_loader(TensorDataset(X_minibatch, y_minibatch)):\n",
    "          X_microbatch = X_microbatch.to(params['device'])\n",
    "          y_microbatch = y_microbatch.to(params['device'])\n",
    "\n",
    "          optimizer.zero_microbatch_grad()\n",
    "          prediction = clf(X_microbatch)\n",
    "          loss = loss_function(prediction, y_microbatch)\n",
    "\n",
    "          loss.backward()\n",
    "          optimizer.microbatch_step()\n",
    "          # running_loss += loss.item()\n",
    "      optimizer.step()\n",
    "\n",
    "      if iteration % 10 == 0:\n",
    "        print('[Iteration %d/%d] [Loss: %f]' % (iteration, params['iterations'], loss.item()))\n",
    "      iteration += 1"
   ]
  },
  {
   "cell_type": "code",
   "execution_count": 30,
   "metadata": {
    "colab": {
     "base_uri": "https://localhost:8080/",
     "height": 1000
    },
    "id": "3ogYHnOvyDOM",
    "outputId": "9c2ec2e6-ece0-48e5-8bd8-6c057fa353a8"
   },
   "outputs": [
    {
     "name": "stderr",
     "output_type": "stream",
     "text": [
      "/usr/local/lib/python3.6/dist-packages/diffprivlib/models/pca.py:223: PrivacyLeakWarning: Data norm has not been specified and will be calculated on the data provided.  This will result in additional privacy leakage. To ensure differential privacy and no additional privacy leakage, specify `data_norm` at initialisation.\n",
      "  \"privacy leakage, specify `data_norm` at initialisation.\", PrivacyLeakWarning)\n"
     ]
    },
    {
     "name": "stdout",
     "output_type": "stream",
     "text": [
      "Achieves (0.25359886466248716, 1e-05)-DP\n",
      "[Iteration 0/1000] [Loss: 306.399628]\n",
      "[Iteration 10/1000] [Loss: 101.116196]\n",
      "[Iteration 20/1000] [Loss: 0.000000]\n",
      "[Iteration 30/1000] [Loss: 2.971449]\n",
      "[Iteration 40/1000] [Loss: 69.031860]\n",
      "[Iteration 50/1000] [Loss: 183.675049]\n",
      "[Iteration 60/1000] [Loss: 140.568817]\n",
      "[Iteration 70/1000] [Loss: 55.080872]\n",
      "[Iteration 80/1000] [Loss: 43.892044]\n",
      "[Iteration 90/1000] [Loss: 77.570549]\n",
      "[Iteration 100/1000] [Loss: 121.239380]\n",
      "[Iteration 110/1000] [Loss: 0.000130]\n",
      "[Iteration 120/1000] [Loss: 60.312683]\n",
      "[Iteration 130/1000] [Loss: 134.286362]\n",
      "[Iteration 140/1000] [Loss: 137.063995]\n",
      "[Iteration 150/1000] [Loss: 116.185661]\n",
      "[Iteration 160/1000] [Loss: 77.205399]\n",
      "[Iteration 170/1000] [Loss: 88.725021]\n",
      "[Iteration 180/1000] [Loss: 0.000000]\n",
      "[Iteration 190/1000] [Loss: 48.423183]\n",
      "[Iteration 200/1000] [Loss: 226.825684]\n",
      "[Iteration 210/1000] [Loss: 7.863688]\n",
      "[Iteration 220/1000] [Loss: 29.086082]\n",
      "[Iteration 230/1000] [Loss: 51.406662]\n",
      "[Iteration 240/1000] [Loss: 45.696831]\n",
      "[Iteration 250/1000] [Loss: 65.043396]\n",
      "[Iteration 260/1000] [Loss: 34.451820]\n",
      "[Iteration 270/1000] [Loss: 7.832474]\n",
      "[Iteration 280/1000] [Loss: 57.000771]\n",
      "[Iteration 290/1000] [Loss: 166.053040]\n",
      "[Iteration 300/1000] [Loss: 20.347635]\n",
      "[Iteration 310/1000] [Loss: 70.110725]\n",
      "[Iteration 320/1000] [Loss: 0.849498]\n",
      "[Iteration 330/1000] [Loss: 0.000000]\n",
      "[Iteration 340/1000] [Loss: 60.518143]\n",
      "[Iteration 350/1000] [Loss: 0.000000]\n",
      "[Iteration 360/1000] [Loss: 91.785263]\n",
      "[Iteration 370/1000] [Loss: 69.795418]\n",
      "[Iteration 380/1000] [Loss: 148.536758]\n",
      "[Iteration 390/1000] [Loss: 84.901131]\n",
      "[Iteration 400/1000] [Loss: 20.961288]\n",
      "[Iteration 410/1000] [Loss: 0.000000]\n",
      "[Iteration 420/1000] [Loss: 47.821091]\n",
      "[Iteration 430/1000] [Loss: 47.534973]\n",
      "[Iteration 440/1000] [Loss: 3.464128]\n",
      "[Iteration 450/1000] [Loss: 2.037602]\n",
      "[Iteration 460/1000] [Loss: 82.842857]\n",
      "[Iteration 470/1000] [Loss: 0.000000]\n",
      "[Iteration 480/1000] [Loss: 117.022713]\n",
      "[Iteration 490/1000] [Loss: 0.000000]\n",
      "[Iteration 500/1000] [Loss: 0.000000]\n",
      "[Iteration 510/1000] [Loss: 156.281769]\n",
      "[Iteration 520/1000] [Loss: 0.000000]\n",
      "[Iteration 530/1000] [Loss: 0.113912]\n",
      "[Iteration 540/1000] [Loss: 0.000000]\n",
      "[Iteration 550/1000] [Loss: 24.399658]\n",
      "[Iteration 560/1000] [Loss: 32.039879]\n",
      "[Iteration 570/1000] [Loss: 49.092560]\n",
      "[Iteration 580/1000] [Loss: 58.767868]\n",
      "[Iteration 590/1000] [Loss: 0.000000]\n",
      "[Iteration 600/1000] [Loss: 92.577408]\n",
      "[Iteration 610/1000] [Loss: 34.636349]\n",
      "[Iteration 620/1000] [Loss: 70.991241]\n",
      "[Iteration 630/1000] [Loss: 23.253849]\n",
      "[Iteration 640/1000] [Loss: 23.102859]\n",
      "[Iteration 650/1000] [Loss: 53.377808]\n",
      "[Iteration 660/1000] [Loss: 53.327431]\n",
      "[Iteration 670/1000] [Loss: 0.000002]\n",
      "[Iteration 680/1000] [Loss: 48.212471]\n",
      "[Iteration 690/1000] [Loss: 28.791128]\n",
      "[Iteration 700/1000] [Loss: 64.966217]\n",
      "[Iteration 710/1000] [Loss: 68.749115]\n",
      "[Iteration 720/1000] [Loss: 64.979286]\n",
      "[Iteration 730/1000] [Loss: 35.339039]\n",
      "[Iteration 740/1000] [Loss: 47.445930]\n",
      "[Iteration 750/1000] [Loss: 0.000000]\n",
      "[Iteration 760/1000] [Loss: 18.723213]\n",
      "[Iteration 770/1000] [Loss: 0.000000]\n",
      "[Iteration 780/1000] [Loss: 0.000000]\n",
      "[Iteration 790/1000] [Loss: 51.278847]\n",
      "[Iteration 800/1000] [Loss: 103.363449]\n",
      "[Iteration 810/1000] [Loss: 7.612585]\n",
      "[Iteration 820/1000] [Loss: 52.491299]\n",
      "[Iteration 830/1000] [Loss: 16.659422]\n",
      "[Iteration 840/1000] [Loss: 0.002254]\n",
      "[Iteration 850/1000] [Loss: 49.644646]\n",
      "[Iteration 860/1000] [Loss: 0.000000]\n",
      "[Iteration 870/1000] [Loss: 48.944824]\n",
      "[Iteration 880/1000] [Loss: 0.000000]\n",
      "[Iteration 890/1000] [Loss: 27.824972]\n",
      "[Iteration 900/1000] [Loss: 41.495113]\n",
      "[Iteration 910/1000] [Loss: 0.000000]\n",
      "[Iteration 920/1000] [Loss: 78.361549]\n",
      "[Iteration 930/1000] [Loss: 0.000000]\n",
      "[Iteration 940/1000] [Loss: 0.000000]\n",
      "[Iteration 950/1000] [Loss: 0.000000]\n",
      "[Iteration 960/1000] [Loss: 0.000000]\n",
      "[Iteration 970/1000] [Loss: 0.000000]\n",
      "[Iteration 980/1000] [Loss: 153.285751]\n",
      "[Iteration 990/1000] [Loss: 48.801254]\n",
      "Accuracy: 44.68%\n"
     ]
    }
   ],
   "source": [
    "params = {\n",
    "    'delta': 1e-5,\n",
    "    'device': 'cpu',\n",
    "    'iterations': 1000,\n",
    "    'l2_norm_clip': 4.,\n",
    "    'l2_penalty': 0.001,\n",
    "    'lr': 0.001,\n",
    "    'microbatch_size': 1,\n",
    "    'minibatch_size': 100,\n",
    "    'noise_multiplier': 2\n",
    "}\n",
    "\n",
    "X_train, y_train, X_test, y_test = mnist_private_pca(epsilon=100)\n",
    "mnist_train_loader = torch.utils.data.DataLoader(TensorDataset(X_train, y_train), batch_size=params['minibatch_size'], shuffle=True)\n",
    "mnist_test_loader = torch.utils.data.DataLoader(TensorDataset(X_test, y_test), batch_size=64, shuffle=True)\n",
    "model = simpleClf()\n",
    "criterion = nn.NLLLoss()\n",
    "optimizer = optim.DPSGD(\n",
    "        l2_norm_clip=params['l2_norm_clip'],\n",
    "        noise_multiplier=params['noise_multiplier'],\n",
    "        minibatch_size=params['minibatch_size'],\n",
    "        microbatch_size=params['microbatch_size'],\n",
    "        params=model.parameters(),\n",
    "        lr=params['lr'],\n",
    "        weight_decay=params['l2_penalty'],\n",
    "    )\n",
    "\n",
    "print('Achieves ({}, {})-DP'.format(\n",
    "    analysis.epsilon(\n",
    "        len(X_train),\n",
    "        params['minibatch_size'],\n",
    "        params['noise_multiplier'],\n",
    "        params['iterations'],\n",
    "        params['delta']\n",
    "    ),\n",
    "    params['delta'],\n",
    "))\n",
    "\n",
    "train(\n",
    "    TensorDataset(X_train, y_train),\n",
    "    optimizer=optimizer,\n",
    "    clf=model,\n",
    "    loss_function=criterion,\n",
    "    params=params\n",
    "    )\n",
    "\n",
    "with torch.no_grad():\n",
    "    logps = model(X_test.view(-1, 30))\n",
    "print(f\"Accuracy: {round(((torch.exp(logps).argmax(dim=1) == y_test).sum().float()/len(X_test)*100).item(), 2)}%\")"
   ]
  },
  {
   "cell_type": "code",
   "execution_count": 6,
   "metadata": {
    "colab": {
     "base_uri": "https://localhost:8080/",
     "height": 555,
     "referenced_widgets": [
      "02c9250e987a4cc99f58d097b7dbe46c",
      "961d1734a39d485a9667e5995eaea35d",
      "c255627eb91a40fcaa528469d1949f1b",
      "000c89a492b04a1a8a21aece1b6f9f12",
      "1289a2a3270c490084e926324806e61f",
      "30cd37d5aecf460895d22843c7b0647c",
      "0d45c2d698014376ada8ec93eb5a2983",
      "f19e6259cea745eda9dd59eb3e84066b",
      "f9877764d43e469a9e300cdbea0a3523",
      "70e370e1fc4e4225806487db9094a424",
      "65559f42f9464799a4c15a09088dd336",
      "47886b26efbf42b694394458a5708c81",
      "ede8d9b0ca6f41ffa58b6712e1c62e95",
      "22f86dd39a584a3a9f3946c0e8a19c39",
      "fb225320e9c44f118f42c0de13a86b8c",
      "e10e0c8c7c154306b32729d90513e38d",
      "67193f40482b4e8d87791c980652791c",
      "bd632e8c4ba54bbb97c18ae85084cb7f",
      "93bb308ba1c04167b24bf95d8432221f",
      "a1561596c2f1462485bb1f418c4fb754",
      "d0362f4a16cf437cb8e1c77b8659f362",
      "7234ca97e9d341c78d63db278b5276a9",
      "8c2c1833339e4430a91203385dc920f5",
      "a6bf45c468c243ac85d42c8baa714a0f",
      "f41f32a30b744644a3166076e06a17a3",
      "9fdb9e60259b4b148e1a21d6e5328af8",
      "f2b35c2852fc4208abfe5d6528b85aec",
      "f73f3f14428f4ac3bee8415e4187eb8b",
      "8d977145b8434480a260f7ec95dacc6d",
      "0e96591c545449ad88e4ee02ca294bab",
      "b6dd9641ea3b496c806f8d7329df6ea6",
      "f6fbd459f26d4b9b8a71a26892fdcf20"
     ]
    },
    "id": "YO9c0jQsOST7",
    "outputId": "296ba2cc-bfaa-4ad7-987b-995d7783c181"
   },
   "outputs": [
    {
     "name": "stdout",
     "output_type": "stream",
     "text": [
      "Downloading http://yann.lecun.com/exdb/mnist/train-images-idx3-ubyte.gz to data/mnist/MNIST/raw/train-images-idx3-ubyte.gz\n"
     ]
    },
    {
     "data": {
      "application/vnd.jupyter.widget-view+json": {
       "model_id": "02c9250e987a4cc99f58d097b7dbe46c",
       "version_major": 2,
       "version_minor": 0
      },
      "text/plain": [
       "HBox(children=(FloatProgress(value=1.0, bar_style='info', max=1.0), HTML(value='')))"
      ]
     },
     "metadata": {
      "tags": []
     },
     "output_type": "display_data"
    },
    {
     "name": "stdout",
     "output_type": "stream",
     "text": [
      "Extracting data/mnist/MNIST/raw/train-images-idx3-ubyte.gz to data/mnist/MNIST/raw\n",
      "Downloading http://yann.lecun.com/exdb/mnist/train-labels-idx1-ubyte.gz to data/mnist/MNIST/raw/train-labels-idx1-ubyte.gz\n"
     ]
    },
    {
     "data": {
      "application/vnd.jupyter.widget-view+json": {
       "model_id": "f9877764d43e469a9e300cdbea0a3523",
       "version_major": 2,
       "version_minor": 0
      },
      "text/plain": [
       "HBox(children=(FloatProgress(value=1.0, bar_style='info', max=1.0), HTML(value='')))"
      ]
     },
     "metadata": {
      "tags": []
     },
     "output_type": "display_data"
    },
    {
     "name": "stdout",
     "output_type": "stream",
     "text": [
      "Extracting data/mnist/MNIST/raw/train-labels-idx1-ubyte.gz to data/mnist/MNIST/raw\n",
      "Downloading http://yann.lecun.com/exdb/mnist/t10k-images-idx3-ubyte.gz to data/mnist/MNIST/raw/t10k-images-idx3-ubyte.gz\n",
      "\n"
     ]
    },
    {
     "data": {
      "application/vnd.jupyter.widget-view+json": {
       "model_id": "67193f40482b4e8d87791c980652791c",
       "version_major": 2,
       "version_minor": 0
      },
      "text/plain": [
       "HBox(children=(FloatProgress(value=1.0, bar_style='info', max=1.0), HTML(value='')))"
      ]
     },
     "metadata": {
      "tags": []
     },
     "output_type": "display_data"
    },
    {
     "name": "stdout",
     "output_type": "stream",
     "text": [
      "Extracting data/mnist/MNIST/raw/t10k-images-idx3-ubyte.gz to data/mnist/MNIST/raw\n",
      "Downloading http://yann.lecun.com/exdb/mnist/t10k-labels-idx1-ubyte.gz to data/mnist/MNIST/raw/t10k-labels-idx1-ubyte.gz\n"
     ]
    },
    {
     "data": {
      "application/vnd.jupyter.widget-view+json": {
       "model_id": "f41f32a30b744644a3166076e06a17a3",
       "version_major": 2,
       "version_minor": 0
      },
      "text/plain": [
       "HBox(children=(FloatProgress(value=1.0, bar_style='info', max=1.0), HTML(value='')))"
      ]
     },
     "metadata": {
      "tags": []
     },
     "output_type": "display_data"
    },
    {
     "name": "stdout",
     "output_type": "stream",
     "text": [
      "Extracting data/mnist/MNIST/raw/t10k-labels-idx1-ubyte.gz to data/mnist/MNIST/raw\n",
      "Processing...\n",
      "Done!\n"
     ]
    },
    {
     "name": "stderr",
     "output_type": "stream",
     "text": [
      "/usr/local/lib/python3.6/dist-packages/torchvision/datasets/mnist.py:469: UserWarning: The given NumPy array is not writeable, and PyTorch does not support non-writeable tensors. This means you can write to the underlying (supposedly non-writeable) NumPy array using the tensor. You may want to copy the array to protect its data or make it writeable before converting it to a tensor. This type of warning will be suppressed for the rest of this program. (Triggered internally at  /pytorch/torch/csrc/utils/tensor_numpy.cpp:141.)\n",
      "  return torch.from_numpy(parsed.astype(m[2], copy=False)).view(*s)\n",
      "/usr/local/lib/python3.6/dist-packages/diffprivlib/models/pca.py:223: PrivacyLeakWarning: Data norm has not been specified and will be calculated on the data provided.  This will result in additional privacy leakage. To ensure differential privacy and no additional privacy leakage, specify `data_norm` at initialisation.\n",
      "  \"privacy leakage, specify `data_norm` at initialisation.\", PrivacyLeakWarning)\n"
     ]
    },
    {
     "name": "stdout",
     "output_type": "stream",
     "text": [
      "\n",
      "Training loss:  1.9632931491300496\n",
      "Training loss:  0.38076825829834415\n",
      "Training loss:  0.27597156134563117\n",
      "Training loss:  0.22665516893143084\n",
      "Training loss:  0.19929648255969065\n",
      "Accuracy: 94.45%\n"
     ]
    }
   ],
   "source": [
    "X_train, y_train, X_test, y_test = mnist_private_pca(epsilon=100)\n",
    "mnist_train_loader = torch.utils.data.DataLoader(TensorDataset(X_train, y_train), batch_size=64, shuffle=True)\n",
    "mnist_test_loader = torch.utils.data.DataLoader(TensorDataset(X_test, y_test), batch_size=64, shuffle=True)\n",
    "model = simpleClf()\n",
    "criterion = nn.NLLLoss()\n",
    "optimizer = optim.SGD(model.parameters(), lr=0.001)\n",
    "\n",
    "train(\n",
    "    mnist_train_loader,\n",
    "    optimizer=optimizer,\n",
    "    clf=model,\n",
    "    loss_function=criterion,\n",
    "    epochs=5\n",
    "    )\n",
    "\n",
    "with torch.no_grad():\n",
    "    logps = model(X_test.view(-1, 60))\n",
    "print(f\"Accuracy: {round(((torch.exp(logps).argmax(dim=1) == y_test).sum().float()/len(X_test)*100).item(), 2)}%\")"
   ]
  },
  {
   "cell_type": "code",
   "execution_count": null,
   "metadata": {
    "id": "hMQDXcMyGeJX"
   },
   "outputs": [],
   "source": [
    "import numpy as np\n",
    "\n",
    "def test_pca():\n",
    "    epsilons = np.linspace(0.00001, 10000, 9)\n",
    "    accuracies = []\n",
    "    for e in epsilons:\n",
    "        X_train, y_train, X_test, y_test = mnist_private_pca(epsilon=e)\n",
    "        mnist_train_loader = torch.utils.data.DataLoader(TensorDataset(X_train, y_train), batch_size=64, shuffle=True)\n",
    "        mnist_test_loader = torch.utils.data.DataLoader(TensorDataset(X_test, y_test), batch_size=64, shuffle=True)\n",
    "        model = simpleClf()\n",
    "        criterion = nn.NLLLoss()\n",
    "        optimizer = optim.SGD(model.parameters(), lr=0.001)\n",
    "\n",
    "        train(\n",
    "            mnist_train_loader,\n",
    "            optimizer=optimizer,\n",
    "            clf=model,\n",
    "            loss_function=criterion,\n",
    "            epochs=5\n",
    "            )\n",
    "\n",
    "        with torch.no_grad():\n",
    "            logps = model(X_test.view(-1, 60))\n",
    "        accuracies.append(round(((torch.exp(logps).argmax(dim=1) == y_test).sum().float()/len(X_test)*100).item(), 2))\n",
    "    return epsilons, accuracies"
   ]
  },
  {
   "cell_type": "code",
   "execution_count": null,
   "metadata": {
    "id": "cGvrCJpmPamQ"
   },
   "outputs": [],
   "source": [
    "import matplotlib.pyplot as plt\n",
    "%matplotlib inline"
   ]
  },
  {
   "cell_type": "code",
   "execution_count": null,
   "metadata": {
    "colab": {
     "base_uri": "https://localhost:8080/",
     "height": 487
    },
    "id": "bSie8IA09GVy",
    "outputId": "eca8911f-b52e-4d0b-9951-75afd33f4892"
   },
   "outputs": [
    {
     "data": {
      "image/png": "[encoded data removed]",
      "text/plain": [
       "<Figure size 864x576 with 1 Axes>"
      ]
     },
     "metadata": {
      "needs_background": "light",
      "tags": []
     },
     "output_type": "display_data"
    }
   ],
   "source": [
    "\n",
    "\n",
    "# eps, acc = test_pca()\n",
    "fig = plt.figure(figsize=(12,8))\n",
    "\n",
    "ax = fig.add_subplot(1, 1, 1)\n",
    "\n",
    "line, = ax.plot(eps, acc, color='blue', lw=2)\n",
    "ax.set_xscale('log')\n",
    "# ax.set_yscale('log')\n",
    "plt.grid()\n",
    "plt.show()"
   ]
  },
  {
   "cell_type": "code",
   "execution_count": null,
   "metadata": {
    "colab": {
     "base_uri": "https://localhost:8080/",
     "height": 35
    },
    "id": "KPlBc_kpG-ET",
    "outputId": "3d059818-5479-4d0f-dd39-aa1ecdff404b"
   },
   "outputs": [
    {
     "data": {
      "text/plain": [
       "torch.Size([1, 60])"
      ]
     },
     "execution_count": 162,
     "metadata": {
      "tags": []
     },
     "output_type": "execute_result"
    }
   ],
   "source": [
    "X[0].shape"
   ]
  },
  {
   "cell_type": "code",
   "execution_count": null,
   "metadata": {
    "colab": {
     "base_uri": "https://localhost:8080/",
     "height": 269
    },
    "id": "NWfGMzr17lvF",
    "outputId": "a2349304-4483-461d-cbad-f93f8737bf87"
   },
   "outputs": [
    {
     "name": "stderr",
     "output_type": "stream",
     "text": [
      "\n",
      "\n",
      "  0%|          | 0/2 [00:00<?, ?it/s]\u001b[A\u001b[A"
     ]
    },
    {
     "ename": "ValueError",
     "evalue": "ignored",
     "output_type": "error",
     "traceback": [
      "\u001b[0;31m---------------------------------------------------------------------------\u001b[0m",
      "\u001b[0;31mValueError\u001b[0m                                Traceback (most recent call last)",
      "\u001b[0;32m<ipython-input-55-8056b7abc2d8>\u001b[0m in \u001b[0;36m<module>\u001b[0;34m()\u001b[0m\n\u001b[1;32m      1\u001b[0m \u001b[0;32mimport\u001b[0m \u001b[0mtime\u001b[0m\u001b[0;34m\u001b[0m\u001b[0;34m\u001b[0m\u001b[0m\n\u001b[1;32m      2\u001b[0m \u001b[0ml\u001b[0m \u001b[0;34m=\u001b[0m \u001b[0mtqdm\u001b[0m\u001b[0;34m.\u001b[0m\u001b[0mtqdm\u001b[0m\u001b[0;34m(\u001b[0m\u001b[0;34m(\u001b[0m\u001b[0mX\u001b[0m\u001b[0;34m,\u001b[0m \u001b[0my\u001b[0m\u001b[0;34m)\u001b[0m\u001b[0;34m)\u001b[0m\u001b[0;34m\u001b[0m\u001b[0;34m\u001b[0m\u001b[0m\n\u001b[0;32m----> 3\u001b[0;31m \u001b[0;32mfor\u001b[0m \u001b[0;34m(\u001b[0m\u001b[0mx\u001b[0m\u001b[0;34m,\u001b[0m \u001b[0my\u001b[0m\u001b[0;34m)\u001b[0m \u001b[0;32min\u001b[0m \u001b[0ml\u001b[0m\u001b[0;34m:\u001b[0m\u001b[0;34m\u001b[0m\u001b[0;34m\u001b[0m\u001b[0m\n\u001b[0m\u001b[1;32m      4\u001b[0m     \u001b[0mtime\u001b[0m\u001b[0;34m.\u001b[0m\u001b[0msleep\u001b[0m\u001b[0;34m(\u001b[0m\u001b[0;36m0.1\u001b[0m\u001b[0;34m)\u001b[0m\u001b[0;34m\u001b[0m\u001b[0;34m\u001b[0m\u001b[0m\n",
      "\u001b[0;31mValueError\u001b[0m: too many values to unpack (expected 2)"
     ]
    }
   ],
   "source": [
    "import time\n",
    "l = tqdm.tqdm((X, y))\n",
    "for (x, y) in l:\n",
    "    time.sleep(0.1)"
   ]
  },
  {
   "cell_type": "code",
   "execution_count": null,
   "metadata": {
    "id": "bTPWYGwd6sI9"
   },
   "outputs": [],
   "source": []
  },
  {
   "cell_type": "code",
   "execution_count": null,
   "metadata": {
    "id": "paTdyPHu5Bx0"
   },
   "outputs": [],
   "source": []
  },
  {
   "cell_type": "code",
   "execution_count": null,
   "metadata": {
    "colab": {
     "base_uri": "https://localhost:8080/",
     "height": 604
    },
    "id": "0B1xKjOmxErn",
    "outputId": "8c269d9f-50fb-4ae2-fa7b-99370071b71d"
   },
   "outputs": [
    {
     "name": "stdout",
     "output_type": "stream",
     "text": [
      "Achieves (3.001484703654448, 1e-05)-DP\n",
      "tensor([[[1687.8270,  -27.6370, -234.4076, -266.1989,  458.8726, -459.3125,\n",
      "            49.4550,  414.9841,   73.7365,  257.8884, -417.3697,    8.5458,\n",
      "          -151.2217, -264.7183, -273.7069,  163.3416,  429.3411,   64.4026,\n",
      "           -33.8287, -201.7081, -459.6727,   55.5027, -326.0295,  379.1437,\n",
      "           334.2971,  -85.1494,  -64.2280,  -77.3139, -160.3390,   75.2707,\n",
      "            -6.2583,  186.5017, -142.1675,  170.6958, -424.6932, -121.7693,\n",
      "           135.5125,  119.6756,  158.1014,  -14.2701, -186.3714,  -91.5073,\n",
      "          -241.6966,   37.4189,   43.8015,   49.5008,   84.6287,   84.7137,\n",
      "            69.4251, -174.8053,   78.0787,  151.1046, -124.2576,   47.2992,\n",
      "           -38.6829,  -30.3598,  146.3357,   48.1629,   84.9712,  -60.5954]]]) tensor([[[0., 0., 0., 0., 0., 0., 0., 0., 0., 0.]]],\n",
      "       grad_fn=<LogSoftmaxBackward>) tensor([3])\n",
      "tensor(0., grad_fn=<NllLossBackward>)\n"
     ]
    },
    {
     "ename": "AttributeError",
     "evalue": "ignored",
     "output_type": "error",
     "traceback": [
      "\u001b[0;31m---------------------------------------------------------------------------\u001b[0m",
      "\u001b[0;31mAttributeError\u001b[0m                            Traceback (most recent call last)",
      "\u001b[0;32m<ipython-input-222-c9bc38423453>\u001b[0m in \u001b[0;36m<module>\u001b[0;34m()\u001b[0m\n\u001b[1;32m    136\u001b[0m 'noise_multiplier':1.1}\n\u001b[1;32m    137\u001b[0m \u001b[0;34m\u001b[0m\u001b[0m\n\u001b[0;32m--> 138\u001b[0;31m \u001b[0mclassifier\u001b[0m \u001b[0;34m=\u001b[0m \u001b[0mtrain\u001b[0m\u001b[0;34m(\u001b[0m\u001b[0mparams\u001b[0m\u001b[0;34m)\u001b[0m\u001b[0;34m\u001b[0m\u001b[0;34m\u001b[0m\u001b[0m\n\u001b[0m\u001b[1;32m    139\u001b[0m \u001b[0;34m\u001b[0m\u001b[0m\n\u001b[1;32m    140\u001b[0m \u001b[0;32mwith\u001b[0m \u001b[0mopen\u001b[0m\u001b[0;34m(\u001b[0m\u001b[0;34m'dp_classifier.dat'\u001b[0m\u001b[0;34m,\u001b[0m \u001b[0;34m'wb'\u001b[0m\u001b[0;34m)\u001b[0m \u001b[0;32mas\u001b[0m \u001b[0mf\u001b[0m\u001b[0;34m:\u001b[0m\u001b[0;34m\u001b[0m\u001b[0;34m\u001b[0m\u001b[0m\n",
      "\u001b[0;32m<ipython-input-222-c9bc38423453>\u001b[0m in \u001b[0;36mtrain\u001b[0;34m(params)\u001b[0m\n\u001b[1;32m    115\u001b[0m             \u001b[0mloss\u001b[0m\u001b[0;34m.\u001b[0m\u001b[0mbackward\u001b[0m\u001b[0;34m(\u001b[0m\u001b[0;34m)\u001b[0m\u001b[0;34m\u001b[0m\u001b[0;34m\u001b[0m\u001b[0m\n\u001b[1;32m    116\u001b[0m             \u001b[0moptimizer\u001b[0m\u001b[0;34m.\u001b[0m\u001b[0mmicrobatch_step\u001b[0m\u001b[0;34m(\u001b[0m\u001b[0;34m)\u001b[0m\u001b[0;34m\u001b[0m\u001b[0;34m\u001b[0m\u001b[0m\n\u001b[0;32m--> 117\u001b[0;31m         \u001b[0moptimizer\u001b[0m\u001b[0;34m.\u001b[0m\u001b[0mstep\u001b[0m\u001b[0;34m(\u001b[0m\u001b[0;34m)\u001b[0m\u001b[0;34m\u001b[0m\u001b[0;34m\u001b[0m\u001b[0m\n\u001b[0m\u001b[1;32m    118\u001b[0m \u001b[0;34m\u001b[0m\u001b[0m\n\u001b[1;32m    119\u001b[0m         \u001b[0;32mif\u001b[0m \u001b[0miteration\u001b[0m \u001b[0;34m%\u001b[0m \u001b[0;36m10\u001b[0m \u001b[0;34m==\u001b[0m \u001b[0;36m0\u001b[0m\u001b[0;34m:\u001b[0m\u001b[0;34m\u001b[0m\u001b[0;34m\u001b[0m\u001b[0m\n",
      "\u001b[0;32m/content/pyvacy/pyvacy/optim/dp_optimizer.py\u001b[0m in \u001b[0;36mstep\u001b[0;34m(self, *args, **kwargs)\u001b[0m\n\u001b[1;32m     45\u001b[0m                 \u001b[0;32mfor\u001b[0m \u001b[0mparam\u001b[0m\u001b[0;34m,\u001b[0m \u001b[0maccum_grad\u001b[0m \u001b[0;32min\u001b[0m \u001b[0mzip\u001b[0m\u001b[0;34m(\u001b[0m\u001b[0mgroup\u001b[0m\u001b[0;34m[\u001b[0m\u001b[0;34m'params'\u001b[0m\u001b[0;34m]\u001b[0m\u001b[0;34m,\u001b[0m \u001b[0mgroup\u001b[0m\u001b[0;34m[\u001b[0m\u001b[0;34m'accum_grads'\u001b[0m\u001b[0;34m]\u001b[0m\u001b[0;34m)\u001b[0m\u001b[0;34m:\u001b[0m\u001b[0;34m\u001b[0m\u001b[0;34m\u001b[0m\u001b[0m\n\u001b[1;32m     46\u001b[0m                     \u001b[0;32mif\u001b[0m \u001b[0mparam\u001b[0m\u001b[0;34m.\u001b[0m\u001b[0mrequires_grad\u001b[0m\u001b[0;34m:\u001b[0m\u001b[0;34m\u001b[0m\u001b[0;34m\u001b[0m\u001b[0m\n\u001b[0;32m---> 47\u001b[0;31m                         \u001b[0mparam\u001b[0m\u001b[0;34m.\u001b[0m\u001b[0mgrad\u001b[0m\u001b[0;34m.\u001b[0m\u001b[0mdata\u001b[0m \u001b[0;34m=\u001b[0m \u001b[0maccum_grad\u001b[0m\u001b[0;34m.\u001b[0m\u001b[0mclone\u001b[0m\u001b[0;34m(\u001b[0m\u001b[0;34m)\u001b[0m\u001b[0;34m\u001b[0m\u001b[0;34m\u001b[0m\u001b[0m\n\u001b[0m\u001b[1;32m     48\u001b[0m                         \u001b[0mparam\u001b[0m\u001b[0;34m.\u001b[0m\u001b[0mgrad\u001b[0m\u001b[0;34m.\u001b[0m\u001b[0mdata\u001b[0m\u001b[0;34m.\u001b[0m\u001b[0madd_\u001b[0m\u001b[0;34m(\u001b[0m\u001b[0mself\u001b[0m\u001b[0;34m.\u001b[0m\u001b[0ml2_norm_clip\u001b[0m \u001b[0;34m*\u001b[0m \u001b[0mself\u001b[0m\u001b[0;34m.\u001b[0m\u001b[0mnoise_multiplier\u001b[0m \u001b[0;34m*\u001b[0m \u001b[0mtorch\u001b[0m\u001b[0;34m.\u001b[0m\u001b[0mrandn_like\u001b[0m\u001b[0;34m(\u001b[0m\u001b[0mparam\u001b[0m\u001b[0;34m.\u001b[0m\u001b[0mgrad\u001b[0m\u001b[0;34m.\u001b[0m\u001b[0mdata\u001b[0m\u001b[0;34m)\u001b[0m\u001b[0;34m)\u001b[0m\u001b[0;34m\u001b[0m\u001b[0;34m\u001b[0m\u001b[0m\n\u001b[1;32m     49\u001b[0m                         \u001b[0mparam\u001b[0m\u001b[0;34m.\u001b[0m\u001b[0mgrad\u001b[0m\u001b[0;34m.\u001b[0m\u001b[0mdata\u001b[0m\u001b[0;34m.\u001b[0m\u001b[0mmul_\u001b[0m\u001b[0;34m(\u001b[0m\u001b[0mself\u001b[0m\u001b[0;34m.\u001b[0m\u001b[0mmicrobatch_size\u001b[0m \u001b[0;34m/\u001b[0m \u001b[0mself\u001b[0m\u001b[0;34m.\u001b[0m\u001b[0mminibatch_size\u001b[0m\u001b[0;34m)\u001b[0m\u001b[0;34m\u001b[0m\u001b[0;34m\u001b[0m\u001b[0m\n",
      "\u001b[0;31mAttributeError\u001b[0m: 'NoneType' object has no attribute 'data'"
     ]
    }
   ],
   "source": [
    "import sys\n",
    "\n",
    "import argparse\n",
    "import numpy as np\n",
    "\n",
    "import torch\n",
    "import torch.nn as nn\n",
    "from torch.utils.data import TensorDataset\n",
    "from torchvision import datasets, transforms\n",
    "\n",
    "from pyvacy import optim, analysis, sampling\n",
    "\n",
    "\n",
    "# Deterministic output\n",
    "torch.manual_seed(0)\n",
    "np.random.seed(0)\n",
    "\n",
    "class Flatten(nn.Module):\n",
    "    def forward(self, inp):\n",
    "        return inp.reshape(inp.shape[0], -1)\n",
    "\n",
    "class Classifier(nn.Module):\n",
    "    def __init__(self, input_dim, device='cpu'):\n",
    "        super(Classifier, self).__init__()\n",
    "        self.model = nn.Sequential(\n",
    "            nn.Conv2d(1, 16, 8, 2),\n",
    "            nn.ReLU(),\n",
    "            nn.MaxPool2d(2, 1),\n",
    "            nn.Conv2d(16, 32, 4, 2),\n",
    "            nn.ReLU(),\n",
    "            nn.MaxPool2d(2, 1),\n",
    "            Flatten(),\n",
    "            nn.Linear(288, 10),\n",
    "            nn.LogSoftmax(dim=1)\n",
    "        ).to(device)\n",
    "\n",
    "    def forward(self, x):\n",
    "        return self.model(x)\n",
    "\n",
    "class simpleClf(nn.Module):\n",
    "    def __init__(self, input_dim, device='cpu'):\n",
    "        super(simpleClf, self).__init__()\n",
    "        self.model = nn.Sequential(\n",
    "            nn.Linear(60, 1000),\n",
    "            nn.ReLU(),\n",
    "            nn.Linear(1000, 10),\n",
    "            nn.LogSoftmax(dim=1)\n",
    "        ).to(device)\n",
    "\n",
    "    def forward(self, x):\n",
    "        return self.model(x)\n",
    "\n",
    "\n",
    "def train(params):\n",
    "    # train_dataset = datasets.MNIST('data/mnist',\n",
    "    #     train=True,\n",
    "    #     download=True,\n",
    "    #     transform=transforms.Compose([\n",
    "    #        transforms.ToTensor(),\n",
    "    #        transforms.Normalize((0.5,), (0.5,))\n",
    "    #     ])\n",
    "    # )\n",
    "    train_dataset = Xp\n",
    "\n",
    "    classifier = simpleClf(\n",
    "        # input_dim=np.prod(train_dataset[0][0].shape),\n",
    "        input_dim = 60,\n",
    "        device=params['device']\n",
    "    )\n",
    "\n",
    "    optimizer = optim.DPSGD(\n",
    "        l2_norm_clip=params['l2_norm_clip'],\n",
    "        noise_multiplier=params['noise_multiplier'],\n",
    "        minibatch_size=params['minibatch_size'],\n",
    "        microbatch_size=params['microbatch_size'],\n",
    "        params=classifier.parameters(),\n",
    "        lr=params['lr'],\n",
    "        weight_decay=params['l2_penalty'],\n",
    "    )\n",
    "\n",
    "    print('Achieves ({}, {})-DP'.format(\n",
    "        analysis.epsilon(\n",
    "            len(train_dataset),\n",
    "            params['minibatch_size'],\n",
    "            params['noise_multiplier'],\n",
    "            params['iterations'],\n",
    "            params['delta']\n",
    "        ),\n",
    "        params['delta'],\n",
    "    ))\n",
    "\n",
    "    loss_function = nn.NLLLoss()\n",
    "\n",
    "    minibatch_loader, microbatch_loader = sampling.get_data_loaders(\n",
    "        params['minibatch_size'],\n",
    "        params['microbatch_size'],\n",
    "        params['iterations']\n",
    "    )\n",
    "\n",
    "    iteration = 0\n",
    "    for X_minibatch, y_minibatch in minibatch_loader(TensorDataset(Xp, y)):\n",
    "    # for X_minibatch, y_minibatch in minibatch_loader(train_dataset):\n",
    "\n",
    "        optimizer.zero_grad()\n",
    "        for X_microbatch, y_microbatch in microbatch_loader(TensorDataset(X_minibatch, y_minibatch)):\n",
    "            X_microbatch = X_microbatch.to(params['device'])\n",
    "            y_microbatch = y_microbatch.to(params['device'])\n",
    "  \n",
    "            optimizer.zero_microbatch_grad()\n",
    "            pred = classifier(X_microbatch)#.argmax(dim=2)\n",
    "            print(X_microbatch, pred, y_microbatch)\n",
    "            loss = loss_function(pred.view(1, 10).float(), y_microbatch)\n",
    "            print(loss)\n",
    "            break\n",
    "            loss.backward()\n",
    "            optimizer.microbatch_step()\n",
    "        optimizer.step()\n",
    "\n",
    "        if iteration % 10 == 0:\n",
    "            print('[Iteration %d/%d] [Loss: %f]' % (iteration, params['iterations'], loss.item()))\n",
    "        iteration += 1\n",
    "\n",
    "    return classifier\n",
    "\n",
    "\n",
    "\n",
    "params = {\n",
    "'delta': 1e-5,\n",
    "'device': 'cpu',\n",
    "'iterations': 14000,\n",
    "'l2_norm_clip': 1.,\n",
    "'l2_penalty':0.001, \n",
    "'lr': 0.15,\n",
    "'microbatch_size':1,\n",
    "'minibatch_size':256,\n",
    "'noise_multiplier':1.1}\n",
    "\n",
    "classifier = train(params)\n",
    "\n",
    "with open('dp_classifier.dat', 'wb') as f:\n",
    "    torch.save(classifier, f)\n",
    "\n",
    "test_dataset = datasets.MNIST('data/mnist',\n",
    "    train=False,\n",
    "    download=True,\n",
    "    transform=transforms.Compose([\n",
    "        transforms.ToTensor(),\n",
    "        transforms.Normalize((0.5,), (0.5,))\n",
    "    ])\n",
    ")\n",
    "\n",
    "X, y = next(iter(DataLoader(test_dataset, batch_size=len(test_dataset))))\n",
    "X, y  = X.to('cuda'), y.to('cuda')\n",
    "\n",
    "y_pred = classifier(X).max(1)[1]\n",
    "\n",
    "count = 0.\n",
    "correct = 0.\n",
    "for pred, actual in zip(y_pred, y):\n",
    "    if pred.item() == actual.item():\n",
    "        correct += 1.\n",
    "    count += 1.\n",
    "print('Test Accuracy: {}'.format(correct / count))\n"
   ]
  },
  {
   "cell_type": "code",
   "execution_count": null,
   "metadata": {
    "colab": {
     "base_uri": "https://localhost:8080/",
     "height": 165
    },
    "id": "-cqZfyNplqcl",
    "outputId": "84335f9c-d66a-4ebb-81c7-330522d0ce18"
   },
   "outputs": [
    {
     "ename": "NameError",
     "evalue": "ignored",
     "output_type": "error",
     "traceback": [
      "\u001b[0;31m---------------------------------------------------------------------------\u001b[0m",
      "\u001b[0;31mNameError\u001b[0m                                 Traceback (most recent call last)",
      "\u001b[0;32m<ipython-input-198-c6fc79dbd350>\u001b[0m in \u001b[0;36m<module>\u001b[0;34m()\u001b[0m\n\u001b[0;32m----> 1\u001b[0;31m \u001b[0mpred\u001b[0m\u001b[0;34m\u001b[0m\u001b[0;34m\u001b[0m\u001b[0m\n\u001b[0m",
      "\u001b[0;31mNameError\u001b[0m: name 'pred' is not defined"
     ]
    }
   ],
   "source": []
  },
  {
   "cell_type": "code",
   "execution_count": null,
   "metadata": {
    "colab": {
     "base_uri": "https://localhost:8080/",
     "height": 35
    },
    "id": "cuNRBBssg5x8",
    "outputId": "f3082a75-599b-40d3-88e7-39b3a61c0e9a"
   },
   "outputs": [
    {
     "data": {
      "text/plain": [
       "tensor(0.)"
      ]
     },
     "execution_count": 138,
     "metadata": {
      "tags": []
     },
     "output_type": "execute_result"
    }
   ],
   "source": [
    "[]"
   ]
  },
  {
   "cell_type": "code",
   "execution_count": null,
   "metadata": {
    "colab": {
     "base_uri": "https://localhost:8080/",
     "height": 52
    },
    "id": "OBsy_KjCYjsV",
    "outputId": "4728f7d5-960a-4cca-8cbd-0e59e6bf44a1"
   },
   "outputs": [
    {
     "name": "stdout",
     "output_type": "stream",
     "text": [
      "torch.Size([281, 1, 28, 28]) torch.Size([281])\n",
      "torch.Size([1, 1, 28, 28]) torch.Size([1])\n"
     ]
    }
   ],
   "source": [
    "    minibatch_loader, microbatch_loader = sampling.get_data_loaders(\n",
    "        params['minibatch_size'],\n",
    "        params['microbatch_size'],\n",
    "        params['iterations']\n",
    "    )\n",
    "train_dataset = datasets.MNIST('data/mnist',\n",
    "    train=True,\n",
    "    download=True,\n",
    "    transform=transforms.Compose([\n",
    "        transforms.ToTensor(),\n",
    "        transforms.Normalize((0.5,), (0.5,))]))\n",
    "    \n",
    "\n",
    "\n",
    "\n",
    "    for X_minibatch, y_minibatch in minibatch_loader(train_dataset):\n",
    "        print(X_minibatch.shape, y_minibatch.shape)\n",
    "        for X_microbatch, y_microbatch in microbatch_loader(TensorDataset(X_minibatch, y_minibatch)):\n",
    "            print(X_microbatch.shape, y_microbatch.shape)\n",
    "            break\n",
    "        break\n",
    "\n"
   ]
  },
  {
   "cell_type": "code",
   "execution_count": null,
   "metadata": {
    "colab": {
     "base_uri": "https://localhost:8080/",
     "height": 1000
    },
    "id": "3T-q3vnRY-Wi",
    "outputId": "d791d632-e04d-49f6-8c37-f7395155c65b"
   },
   "outputs": [
    {
     "name": "stderr",
     "output_type": "stream",
     "text": [
      "/usr/local/lib/python3.6/dist-packages/torchvision/datasets/mnist.py:55: UserWarning: train_data has been renamed data\n",
      "  warnings.warn(\"train_data has been renamed data\")\n"
     ]
    },
    {
     "data": {
      "text/plain": [
       "tensor([[  0,   0,   0,   0,   0,   0,   0,   0,   0,   0,   0,   0,   0,   0,\n",
       "           0,   0,   0,   0,   0,   0,   0,   0,   0,   0,   0,   0,   0,   0],\n",
       "        [  0,   0,   0,   0,   0,   0,   0,   0,   0,   0,   0,   0,   0,   0,\n",
       "           0,   0,   0,   0,   0,   0,   0,   0,   0,   0,   0,   0,   0,   0],\n",
       "        [  0,   0,   0,   0,   0,   0,   0,   0,   0,   0,   0,   0,   0,   0,\n",
       "           0,   0,   0,   0,   0,   0,   0,   0,   0,   0,   0,   0,   0,   0],\n",
       "        [  0,   0,   0,   0,   0,   0,   0,   0,   0,   0,   0,   0,   0,   0,\n",
       "           0,   0,   0,   0,   0,   0,   0,   0,   0,   0,   0,   0,   0,   0],\n",
       "        [  0,   0,   0,   0,   0,   0,   0,   0,   0,   0,   0,   0,   0,   0,\n",
       "           0,   0,   0,   0,   0,   0,   0,   0,   0,   0,   0,   0,   0,   0],\n",
       "        [  0,   0,   0,   0,   0,   0,   0,   0,   0,   0,   0,   0,   3,  18,\n",
       "          18,  18, 126, 136, 175,  26, 166, 255, 247, 127,   0,   0,   0,   0],\n",
       "        [  0,   0,   0,   0,   0,   0,   0,   0,  30,  36,  94, 154, 170, 253,\n",
       "         253, 253, 253, 253, 225, 172, 253, 242, 195,  64,   0,   0,   0,   0],\n",
       "        [  0,   0,   0,   0,   0,   0,   0,  49, 238, 253, 253, 253, 253, 253,\n",
       "         253, 253, 253, 251,  93,  82,  82,  56,  39,   0,   0,   0,   0,   0],\n",
       "        [  0,   0,   0,   0,   0,   0,   0,  18, 219, 253, 253, 253, 253, 253,\n",
       "         198, 182, 247, 241,   0,   0,   0,   0,   0,   0,   0,   0,   0,   0],\n",
       "        [  0,   0,   0,   0,   0,   0,   0,   0,  80, 156, 107, 253, 253, 205,\n",
       "          11,   0,  43, 154,   0,   0,   0,   0,   0,   0,   0,   0,   0,   0],\n",
       "        [  0,   0,   0,   0,   0,   0,   0,   0,   0,  14,   1, 154, 253,  90,\n",
       "           0,   0,   0,   0,   0,   0,   0,   0,   0,   0,   0,   0,   0,   0],\n",
       "        [  0,   0,   0,   0,   0,   0,   0,   0,   0,   0,   0, 139, 253, 190,\n",
       "           2,   0,   0,   0,   0,   0,   0,   0,   0,   0,   0,   0,   0,   0],\n",
       "        [  0,   0,   0,   0,   0,   0,   0,   0,   0,   0,   0,  11, 190, 253,\n",
       "          70,   0,   0,   0,   0,   0,   0,   0,   0,   0,   0,   0,   0,   0],\n",
       "        [  0,   0,   0,   0,   0,   0,   0,   0,   0,   0,   0,   0,  35, 241,\n",
       "         225, 160, 108,   1,   0,   0,   0,   0,   0,   0,   0,   0,   0,   0],\n",
       "        [  0,   0,   0,   0,   0,   0,   0,   0,   0,   0,   0,   0,   0,  81,\n",
       "         240, 253, 253, 119,  25,   0,   0,   0,   0,   0,   0,   0,   0,   0],\n",
       "        [  0,   0,   0,   0,   0,   0,   0,   0,   0,   0,   0,   0,   0,   0,\n",
       "          45, 186, 253, 253, 150,  27,   0,   0,   0,   0,   0,   0,   0,   0],\n",
       "        [  0,   0,   0,   0,   0,   0,   0,   0,   0,   0,   0,   0,   0,   0,\n",
       "           0,  16,  93, 252, 253, 187,   0,   0,   0,   0,   0,   0,   0,   0],\n",
       "        [  0,   0,   0,   0,   0,   0,   0,   0,   0,   0,   0,   0,   0,   0,\n",
       "           0,   0,   0, 249, 253, 249,  64,   0,   0,   0,   0,   0,   0,   0],\n",
       "        [  0,   0,   0,   0,   0,   0,   0,   0,   0,   0,   0,   0,   0,   0,\n",
       "          46, 130, 183, 253, 253, 207,   2,   0,   0,   0,   0,   0,   0,   0],\n",
       "        [  0,   0,   0,   0,   0,   0,   0,   0,   0,   0,   0,   0,  39, 148,\n",
       "         229, 253, 253, 253, 250, 182,   0,   0,   0,   0,   0,   0,   0,   0],\n",
       "        [  0,   0,   0,   0,   0,   0,   0,   0,   0,   0,  24, 114, 221, 253,\n",
       "         253, 253, 253, 201,  78,   0,   0,   0,   0,   0,   0,   0,   0,   0],\n",
       "        [  0,   0,   0,   0,   0,   0,   0,   0,  23,  66, 213, 253, 253, 253,\n",
       "         253, 198,  81,   2,   0,   0,   0,   0,   0,   0,   0,   0,   0,   0],\n",
       "        [  0,   0,   0,   0,   0,   0,  18, 171, 219, 253, 253, 253, 253, 195,\n",
       "          80,   9,   0,   0,   0,   0,   0,   0,   0,   0,   0,   0,   0,   0],\n",
       "        [  0,   0,   0,   0,  55, 172, 226, 253, 253, 253, 253, 244, 133,  11,\n",
       "           0,   0,   0,   0,   0,   0,   0,   0,   0,   0,   0,   0,   0,   0],\n",
       "        [  0,   0,   0,   0, 136, 253, 253, 253, 212, 135, 132,  16,   0,   0,\n",
       "           0,   0,   0,   0,   0,   0,   0,   0,   0,   0,   0,   0,   0,   0],\n",
       "        [  0,   0,   0,   0,   0,   0,   0,   0,   0,   0,   0,   0,   0,   0,\n",
       "           0,   0,   0,   0,   0,   0,   0,   0,   0,   0,   0,   0,   0,   0],\n",
       "        [  0,   0,   0,   0,   0,   0,   0,   0,   0,   0,   0,   0,   0,   0,\n",
       "           0,   0,   0,   0,   0,   0,   0,   0,   0,   0,   0,   0,   0,   0],\n",
       "        [  0,   0,   0,   0,   0,   0,   0,   0,   0,   0,   0,   0,   0,   0,\n",
       "           0,   0,   0,   0,   0,   0,   0,   0,   0,   0,   0,   0,   0,   0]],\n",
       "       dtype=torch.uint8)"
      ]
     },
     "execution_count": 59,
     "metadata": {
      "tags": []
     },
     "output_type": "execute_result"
    }
   ],
   "source": [
    "train_dataset.train_data[0]"
   ]
  },
  {
   "cell_type": "code",
   "execution_count": null,
   "metadata": {
    "id": "6ZTzRiQJxvoo"
   },
   "outputs": [],
   "source": []
  },
  {
   "cell_type": "code",
   "execution_count": null,
   "metadata": {
    "colab": {
     "base_uri": "https://localhost:8080/",
     "height": 391
    },
    "id": "gvO2bSN9w5qH",
    "outputId": "2319a907-af04-4a73-fe9f-69acbd939aea"
   },
   "outputs": [
    {
     "name": "stdout",
     "output_type": "stream",
     "text": [
      "Cloning into 'pyvacy'...\n",
      "remote: Enumerating objects: 27, done.\u001b[K\n",
      "remote: Counting objects: 100% (27/27), done.\u001b[K\n",
      "remote: Compressing objects: 100% (22/22), done.\u001b[K\n",
      "remote: Total 81 (delta 7), reused 22 (delta 5), pack-reused 54\u001b[K\n",
      "Unpacking objects: 100% (81/81), done.\n",
      "Collecting diffprivlib\n",
      "\u001b[?25l  Downloading https://files.pythonhosted.org/packages/fe/b8/852409057d6acc060f06cac8d0a45b73dfa54ee4fbd1577c9a7d755e9fb6/diffprivlib-0.3.0.tar.gz (70kB)\n",
      "\u001b[K     |████████████████████████████████| 71kB 1.9MB/s \n",
      "\u001b[?25hRequirement already satisfied: numpy>=1.15.0 in /usr/local/lib/python3.6/dist-packages (from diffprivlib) (1.18.5)\n",
      "Requirement already satisfied: setuptools>=39.0.1 in /usr/local/lib/python3.6/dist-packages (from diffprivlib) (50.3.0)\n",
      "Requirement already satisfied: scikit-learn>=0.22.0 in /usr/local/lib/python3.6/dist-packages (from diffprivlib) (0.22.2.post1)\n",
      "Requirement already satisfied: scipy>=1.2.1 in /usr/local/lib/python3.6/dist-packages (from diffprivlib) (1.4.1)\n",
      "Requirement already satisfied: joblib>=0.11 in /usr/local/lib/python3.6/dist-packages (from diffprivlib) (0.16.0)\n",
      "Building wheels for collected packages: diffprivlib\n",
      "  Building wheel for diffprivlib (setup.py) ... \u001b[?25l\u001b[?25hdone\n",
      "  Created wheel for diffprivlib: filename=diffprivlib-0.3.0-cp36-none-any.whl size=138999 sha256=ba4fd7afec58ecd73ec840e24e01d1d22f6632987abba35e5bf353dc3674ef1a\n",
      "  Stored in directory: /root/.cache/pip/wheels/64/68/62/617183f73d3feceab2c9d4081714a27bc11be5bb3f10f59b8a\n",
      "Successfully built diffprivlib\n",
      "Installing collected packages: diffprivlib\n",
      "Successfully installed diffprivlib-0.3.0\n",
      "\u001b[0m\u001b[01;34mpyvacy\u001b[0m/  \u001b[01;34msample_data\u001b[0m/\n"
     ]
    }
   ],
   "source": [
    "!git clone https://github.com/ChrisWaites/pyvacy\n",
    "!pip install diffprivlib\n",
    "%ls"
   ]
  },
  {
   "cell_type": "code",
   "execution_count": null,
   "metadata": {
    "colab": {
     "base_uri": "https://localhost:8080/",
     "height": 1000
    },
    "id": "pbogFcpow-u_",
    "outputId": "cf9b2c04-992e-48f9-9a22-d99ee5c06205"
   },
   "outputs": [
    {
     "name": "stdout",
     "output_type": "stream",
     "text": [
      "/content/pyvacy\n",
      "running install\n",
      "running bdist_egg\n",
      "running egg_info\n",
      "creating pyvacy.egg-info\n",
      "writing pyvacy.egg-info/PKG-INFO\n",
      "writing dependency_links to pyvacy.egg-info/dependency_links.txt\n",
      "writing requirements to pyvacy.egg-info/requires.txt\n",
      "writing top-level names to pyvacy.egg-info/top_level.txt\n",
      "writing manifest file 'pyvacy.egg-info/SOURCES.txt'\n",
      "writing manifest file 'pyvacy.egg-info/SOURCES.txt'\n",
      "installing library code to build/bdist.linux-x86_64/egg\n",
      "running install_lib\n",
      "running build_py\n",
      "creating build\n",
      "creating build/lib\n",
      "creating build/lib/pyvacy\n",
      "copying pyvacy/__init__.py -> build/lib/pyvacy\n",
      "creating build/lib/pyvacy/optim\n",
      "copying pyvacy/optim/dp_optimizer.py -> build/lib/pyvacy/optim\n",
      "copying pyvacy/optim/__init__.py -> build/lib/pyvacy/optim\n",
      "creating build/lib/pyvacy/sampling\n",
      "copying pyvacy/sampling/batch_samplers.py -> build/lib/pyvacy/sampling\n",
      "copying pyvacy/sampling/__init__.py -> build/lib/pyvacy/sampling\n",
      "creating build/lib/pyvacy/analysis\n",
      "copying pyvacy/analysis/moments_accountant.py -> build/lib/pyvacy/analysis\n",
      "copying pyvacy/analysis/rdp_accountant.py -> build/lib/pyvacy/analysis\n",
      "copying pyvacy/analysis/subsampled.py -> build/lib/pyvacy/analysis\n",
      "copying pyvacy/analysis/epsilon_calculation.py -> build/lib/pyvacy/analysis\n",
      "copying pyvacy/analysis/__init__.py -> build/lib/pyvacy/analysis\n",
      "creating build/bdist.linux-x86_64\n",
      "creating build/bdist.linux-x86_64/egg\n",
      "creating build/bdist.linux-x86_64/egg/pyvacy\n",
      "creating build/bdist.linux-x86_64/egg/pyvacy/optim\n",
      "copying build/lib/pyvacy/optim/dp_optimizer.py -> build/bdist.linux-x86_64/egg/pyvacy/optim\n",
      "copying build/lib/pyvacy/optim/__init__.py -> build/bdist.linux-x86_64/egg/pyvacy/optim\n",
      "creating build/bdist.linux-x86_64/egg/pyvacy/sampling\n",
      "copying build/lib/pyvacy/sampling/batch_samplers.py -> build/bdist.linux-x86_64/egg/pyvacy/sampling\n",
      "copying build/lib/pyvacy/sampling/__init__.py -> build/bdist.linux-x86_64/egg/pyvacy/sampling\n",
      "creating build/bdist.linux-x86_64/egg/pyvacy/analysis\n",
      "copying build/lib/pyvacy/analysis/moments_accountant.py -> build/bdist.linux-x86_64/egg/pyvacy/analysis\n",
      "copying build/lib/pyvacy/analysis/rdp_accountant.py -> build/bdist.linux-x86_64/egg/pyvacy/analysis\n",
      "copying build/lib/pyvacy/analysis/subsampled.py -> build/bdist.linux-x86_64/egg/pyvacy/analysis\n",
      "copying build/lib/pyvacy/analysis/epsilon_calculation.py -> build/bdist.linux-x86_64/egg/pyvacy/analysis\n",
      "copying build/lib/pyvacy/analysis/__init__.py -> build/bdist.linux-x86_64/egg/pyvacy/analysis\n",
      "copying build/lib/pyvacy/__init__.py -> build/bdist.linux-x86_64/egg/pyvacy\n",
      "byte-compiling build/bdist.linux-x86_64/egg/pyvacy/optim/dp_optimizer.py to dp_optimizer.cpython-36.pyc\n",
      "byte-compiling build/bdist.linux-x86_64/egg/pyvacy/optim/__init__.py to __init__.cpython-36.pyc\n",
      "byte-compiling build/bdist.linux-x86_64/egg/pyvacy/sampling/batch_samplers.py to batch_samplers.cpython-36.pyc\n",
      "byte-compiling build/bdist.linux-x86_64/egg/pyvacy/sampling/__init__.py to __init__.cpython-36.pyc\n",
      "byte-compiling build/bdist.linux-x86_64/egg/pyvacy/analysis/moments_accountant.py to moments_accountant.cpython-36.pyc\n",
      "byte-compiling build/bdist.linux-x86_64/egg/pyvacy/analysis/rdp_accountant.py to rdp_accountant.cpython-36.pyc\n",
      "byte-compiling build/bdist.linux-x86_64/egg/pyvacy/analysis/subsampled.py to subsampled.cpython-36.pyc\n",
      "byte-compiling build/bdist.linux-x86_64/egg/pyvacy/analysis/epsilon_calculation.py to epsilon_calculation.cpython-36.pyc\n",
      "byte-compiling build/bdist.linux-x86_64/egg/pyvacy/analysis/__init__.py to __init__.cpython-36.pyc\n",
      "byte-compiling build/bdist.linux-x86_64/egg/pyvacy/__init__.py to __init__.cpython-36.pyc\n",
      "creating build/bdist.linux-x86_64/egg/EGG-INFO\n",
      "copying pyvacy.egg-info/PKG-INFO -> build/bdist.linux-x86_64/egg/EGG-INFO\n",
      "copying pyvacy.egg-info/SOURCES.txt -> build/bdist.linux-x86_64/egg/EGG-INFO\n",
      "copying pyvacy.egg-info/dependency_links.txt -> build/bdist.linux-x86_64/egg/EGG-INFO\n",
      "copying pyvacy.egg-info/requires.txt -> build/bdist.linux-x86_64/egg/EGG-INFO\n",
      "copying pyvacy.egg-info/top_level.txt -> build/bdist.linux-x86_64/egg/EGG-INFO\n"
     ]
    },
    {
     "name": "stderr",
     "output_type": "stream",
     "text": [
      "zip_safe flag not set; analyzing archive contents...\n"
     ]
    },
    {
     "name": "stdout",
     "output_type": "stream",
     "text": [
      "creating dist\n",
      "creating 'dist/pyvacy-0.0.1-py3.6.egg' and adding 'build/bdist.linux-x86_64/egg' to it\n",
      "removing 'build/bdist.linux-x86_64/egg' (and everything under it)\n",
      "Processing pyvacy-0.0.1-py3.6.egg\n",
      "Copying pyvacy-0.0.1-py3.6.egg to /usr/local/lib/python3.6/dist-packages\n",
      "Adding pyvacy 0.0.1 to easy-install.pth file\n",
      "\n",
      "Installed /usr/local/lib/python3.6/dist-packages/pyvacy-0.0.1-py3.6.egg\n",
      "Processing dependencies for pyvacy==0.0.1\n",
      "Searching for torch-vision\n",
      "Reading https://pypi.org/simple/torch-vision/\n",
      "Downloading https://files.pythonhosted.org/packages/ea/13/4942860c32f6877def97c0b432348adce870ae613ed4eb1de10cae0bb018/torch_vision-0.1.6.dev0-py2.py3-none-any.whl#sha256=e5292127b8d9e4b211fdf1a030e61fa56a2f537fe8306963618be6b61d65a80d\n",
      "Best match: torch-vision 0.1.6.dev0\n",
      "Processing torch_vision-0.1.6.dev0-py2.py3-none-any.whl\n",
      "Installing torch_vision-0.1.6.dev0-py2.py3-none-any.whl to /usr/local/lib/python3.6/dist-packages\n",
      "Adding torch-vision 0.1.6.dev0 to easy-install.pth file\n",
      "\n",
      "Installed /usr/local/lib/python3.6/dist-packages/torch_vision-0.1.6.dev0-py3.6.egg\n",
      "Searching for torch==1.6.0+cu101\n",
      "Best match: torch 1.6.0+cu101\n",
      "Adding torch 1.6.0+cu101 to easy-install.pth file\n",
      "Installing convert-caffe2-to-onnx script to /usr/local/bin\n",
      "Installing convert-onnx-to-caffe2 script to /usr/local/bin\n",
      "\n",
      "Using /usr/local/lib/python3.6/dist-packages\n",
      "Searching for numpy==1.18.5\n",
      "Best match: numpy 1.18.5\n",
      "Adding numpy 1.18.5 to easy-install.pth file\n",
      "Installing f2py script to /usr/local/bin\n",
      "Installing f2py3 script to /usr/local/bin\n",
      "Installing f2py3.6 script to /usr/local/bin\n",
      "\n",
      "Using /usr/local/lib/python3.6/dist-packages\n",
      "Searching for future==0.16.0\n",
      "Best match: future 0.16.0\n",
      "Adding future 0.16.0 to easy-install.pth file\n",
      "Installing futurize script to /usr/local/bin\n",
      "Installing pasteurize script to /usr/local/bin\n",
      "\n",
      "Using /usr/local/lib/python3.6/dist-packages\n",
      "Finished processing dependencies for pyvacy==0.0.1\n"
     ]
    }
   ],
   "source": [
    "%cd pyvacy\n",
    "%run setup.py install\n"
   ]
  },
  {
   "cell_type": "code",
   "execution_count": null,
   "metadata": {
    "id": "1WPE31uEUMEk"
   },
   "outputs": [],
   "source": [
    "import diffprivlib\n",
    "import sys\n",
    "\n",
    "import argparse\n",
    "import numpy as np\n",
    "\n",
    "import torch\n",
    "import torch.nn as nn\n",
    "from torch.utils.data import TensorDataset\n",
    "from torchvision import datasets, transforms\n",
    "\n",
    "from pyvacy import optim, analysis, sampling\n",
    "import matplotlib.pyplot as plt"
   ]
  },
  {
   "cell_type": "code",
   "execution_count": null,
   "metadata": {
    "colab": {
     "base_uri": "https://localhost:8080/",
     "height": 328
    },
    "id": "bBgto7Bf1KlY",
    "outputId": "bad6728b-b0a2-48ca-ab05-6b88cd9201f9"
   },
   "outputs": [
    {
     "name": "stderr",
     "output_type": "stream",
     "text": [
      "/usr/local/lib/python3.6/dist-packages/torchvision/datasets/mnist.py:55: UserWarning: train_data has been renamed data\n",
      "  warnings.warn(\"train_data has been renamed data\")\n"
     ]
    },
    {
     "data": {
      "image/png": "[encoded data removed]",
      "text/plain": [
       "<Figure size 432x288 with 1 Axes>"
      ]
     },
     "metadata": {
      "needs_background": "light",
      "tags": []
     },
     "output_type": "display_data"
    }
   ],
   "source": [
    "train_dataset = datasets.MNIST('data/mnist',\n",
    "        train=True,\n",
    "        download=True,\n",
    "        transform=transforms.Compose([\n",
    "          transforms.ToTensor(),\n",
    "          transforms.Normalize((0.5,), (0.5,))]))#.train_data\n",
    "\n",
    "\n",
    "\n",
    "X = train_dataset.train_data.view(-1, 28*28)\n",
    "y = train_dataset.targets\n",
    "\n",
    "plt.title(f'Label={y[0]}', size=30)\n",
    "plt.imshow(X[0].view(28, 28), cmap='gray');"
   ]
  },
  {
   "cell_type": "code",
   "execution_count": 94,
   "metadata": {
    "colab": {
     "base_uri": "https://localhost:8080/",
     "height": 35
    },
    "id": "qldM6Od3Di2H",
    "outputId": "54678d97-a6c2-4f0d-d534-17a429ae76e7"
   },
   "outputs": [
    {
     "data": {
      "text/plain": [
       "torch.Size([10000, 28, 28])"
      ]
     },
     "execution_count": 94,
     "metadata": {
      "tags": []
     },
     "output_type": "execute_result"
    }
   ],
   "source": [
    "dataset = datasets.MNIST('data/mnist',\n",
    "        train=False,\n",
    "        download=True,\n",
    "        transform=transforms.Compose([\n",
    "          transforms.ToTensor(),\n",
    "          transforms.Normalize((0.5,), (0.5,))]))\n",
    "\n",
    "dataset.data.shape"
   ]
  },
  {
   "cell_type": "code",
   "execution_count": 146,
   "metadata": {
    "id": "15LAryJNzaHq"
   },
   "outputs": [],
   "source": [
    "def mnist_private_pca(epsilon=4):\n",
    "    train = datasets.MNIST('data/mnist',\n",
    "            train=True,\n",
    "            download=True,\n",
    "            transform=transforms.Compose([\n",
    "              transforms.ToTensor(),\n",
    "              transforms.Normalize((0.5,), (0.5,))]))#.train_data\n",
    "\n",
    "    test = datasets.MNIST('data/mnist',\n",
    "            train=False,\n",
    "            download=True,\n",
    "            transform=transforms.Compose([\n",
    "              transforms.ToTensor(),\n",
    "              transforms.Normalize((0.5,), (0.5,))]))#.train_data\n",
    "\n",
    "    X_train = train.data.view(-1, 28*28)\n",
    "    y_train = train.targets\n",
    "\n",
    "    X_test = test.data.view(-1, 28*28)\n",
    "    y_test = test.targets\n",
    "\n",
    "    DPPCA = diffprivlib.models.pca.PCA(n_components=60,centered=True, epsilon=epsilon)\n",
    "    X_train_pc = DPPCA.fit_transform(X_train)\n",
    "    X_train_pc = torch.Tensor(X_train_pc).view(-1, 60)\n",
    "\n",
    "    X_test_pc = DPPCA.transform(X_test)\n",
    "    X_test_pc = torch.Tensor(X_test_pc).view(-1, 60)\n",
    "    return X_train_pc, y_train, X_test_pc, y_test\n",
    "\n",
    "\n"
   ]
  },
  {
   "cell_type": "code",
   "execution_count": 185,
   "metadata": {
    "id": "xHQtVVoD1Ync"
   },
   "outputs": [],
   "source": [
    "import tqdm\n",
    "\n",
    "class simpleClf(nn.Module):\n",
    "    def __init__(self, device='cpu'):\n",
    "        super(simpleClf, self).__init__()\n",
    "        self.model = nn.Sequential(\n",
    "            nn.Linear(60, 128),\n",
    "            nn.ReLU(),\n",
    "            nn.Linear(128, 10),\n",
    "            nn.LogSoftmax(dim=1)\n",
    "        ).to(device)\n",
    "\n",
    "    def forward(self, x):\n",
    "        return self.model(x)\n",
    "\n",
    "def train(dataloader, optimizer, clf, loss_function, epochs=3):\n",
    "    \n",
    "    epochs_ = range(epochs)\n",
    "    for _ in epochs_:\n",
    "        running_loss = 0\n",
    "        for X, y in dataloader:\n",
    "            optimizer.zero_grad()\n",
    "            prediction = clf(X)\n",
    "            loss = loss_function(prediction, y)\n",
    "\n",
    "            loss.backward()\n",
    "            optimizer.step()\n",
    "            running_loss += loss.item()\n",
    "        else:\n",
    "            print(\"Training loss: \",(running_loss/len(dataloader))) \n",
    "            "
   ]
  },
  {
   "cell_type": "code",
   "execution_count": null,
   "metadata": {
    "id": "YO9c0jQsOST7"
   },
   "outputs": [],
   "source": [
    "X_train, y_train, X_test, y_test = mnist_private_pca(epsilon=100)\n",
    "mnist_train_loader = torch.utils.data.DataLoader(TensorDataset(X_train, y_train), batch_size=64, shuffle=True)\n",
    "mnist_test_loader = torch.utils.data.DataLoader(TensorDataset(X_test, y_test), batch_size=64, shuffle=True)\n",
    "model = simpleClf()\n",
    "criterion = nn.NLLLoss()\n",
    "optimizer = optim.SGD(model.parameters(), lr=0.001)\n",
    "\n",
    "train(\n",
    "    mnist_train_loader,\n",
    "    optimizer=optimizer,\n",
    "    clf=model,\n",
    "    loss_function=criterion,\n",
    "    epochs=5\n",
    "    )\n",
    "\n",
    "with torch.no_grad():\n",
    "    logps = model(X_test.view(-1, 60))\n",
    "print(f\"Accuracy: {round(((torch.exp(logps).argmax(dim=1) == y_test).sum().float()/len(X_test)*100).item(), 2)}%\")"
   ]
  },
  {
   "cell_type": "code",
   "execution_count": 196,
   "metadata": {
    "id": "hMQDXcMyGeJX"
   },
   "outputs": [],
   "source": [
    "import numpy as np\n",
    "\n",
    "def test_pca():\n",
    "    epsilons = np.linspace(0.00001, 10000, 9)\n",
    "    accuracies = []\n",
    "    for e in epsilons:\n",
    "        X_train, y_train, X_test, y_test = mnist_private_pca(epsilon=e)\n",
    "        mnist_train_loader = torch.utils.data.DataLoader(TensorDataset(X_train, y_train), batch_size=64, shuffle=True)\n",
    "        mnist_test_loader = torch.utils.data.DataLoader(TensorDataset(X_test, y_test), batch_size=64, shuffle=True)\n",
    "        model = simpleClf()\n",
    "        criterion = nn.NLLLoss()\n",
    "        optimizer = optim.SGD(model.parameters(), lr=0.001)\n",
    "\n",
    "        train(\n",
    "            mnist_train_loader,\n",
    "            optimizer=optimizer,\n",
    "            clf=model,\n",
    "            loss_function=criterion,\n",
    "            epochs=5\n",
    "            )\n",
    "\n",
    "        with torch.no_grad():\n",
    "            logps = model(X_test.view(-1, 60))\n",
    "        accuracies.append(round(((torch.exp(logps).argmax(dim=1) == y_test).sum().float()/len(X_test)*100).item(), 2))\n",
    "    return epsilons, accuracies"
   ]
  },
  {
   "cell_type": "code",
   "execution_count": 210,
   "metadata": {
    "id": "cGvrCJpmPamQ"
   },
   "outputs": [],
   "source": [
    "import matplotlib.pyplot as plt\n",
    "%matplotlib inline"
   ]
  },
  {
   "cell_type": "code",
   "execution_count": 214,
   "metadata": {
    "colab": {
     "base_uri": "https://localhost:8080/",
     "height": 487
    },
    "id": "bSie8IA09GVy",
    "outputId": "eca8911f-b52e-4d0b-9951-75afd33f4892"
   },
   "outputs": [
    {
     "data": {
      "image/png": "[encoded data removed]",
      "text/plain": [
       "<Figure size 864x576 with 1 Axes>"
      ]
     },
     "metadata": {
      "needs_background": "light",
      "tags": []
     },
     "output_type": "display_data"
    }
   ],
   "source": [
    "\n",
    "\n",
    "# eps, acc = test_pca()\n",
    "fig = plt.figure(figsize=(12,8))\n",
    "\n",
    "ax = fig.add_subplot(1, 1, 1)\n",
    "\n",
    "line, = ax.plot(eps, acc, color='blue', lw=2)\n",
    "ax.set_xscale('log')\n",
    "# ax.set_yscale('log')\n",
    "plt.grid()\n",
    "plt.show()"
   ]
  },
  {
   "cell_type": "code",
   "execution_count": 162,
   "metadata": {
    "colab": {
     "base_uri": "https://localhost:8080/",
     "height": 35
    },
    "id": "KPlBc_kpG-ET",
    "outputId": "3d059818-5479-4d0f-dd39-aa1ecdff404b"
   },
   "outputs": [
    {
     "data": {
      "text/plain": [
       "torch.Size([1, 60])"
      ]
     },
     "execution_count": 162,
     "metadata": {
      "tags": []
     },
     "output_type": "execute_result"
    }
   ],
   "source": [
    "X[0].shape"
   ]
  },
  {
   "cell_type": "code",
   "execution_count": null,
   "metadata": {
    "colab": {
     "base_uri": "https://localhost:8080/",
     "height": 269
    },
    "id": "NWfGMzr17lvF",
    "outputId": "a2349304-4483-461d-cbad-f93f8737bf87"
   },
   "outputs": [
    {
     "name": "stderr",
     "output_type": "stream",
     "text": [
      "\n",
      "\n",
      "  0%|          | 0/2 [00:00<?, ?it/s]\u001b[A\u001b[A"
     ]
    },
    {
     "ename": "ValueError",
     "evalue": "ignored",
     "output_type": "error",
     "traceback": [
      "\u001b[0;31m---------------------------------------------------------------------------\u001b[0m",
      "\u001b[0;31mValueError\u001b[0m                                Traceback (most recent call last)",
      "\u001b[0;32m<ipython-input-55-8056b7abc2d8>\u001b[0m in \u001b[0;36m<module>\u001b[0;34m()\u001b[0m\n\u001b[1;32m      1\u001b[0m \u001b[0;32mimport\u001b[0m \u001b[0mtime\u001b[0m\u001b[0;34m\u001b[0m\u001b[0;34m\u001b[0m\u001b[0m\n\u001b[1;32m      2\u001b[0m \u001b[0ml\u001b[0m \u001b[0;34m=\u001b[0m \u001b[0mtqdm\u001b[0m\u001b[0;34m.\u001b[0m\u001b[0mtqdm\u001b[0m\u001b[0;34m(\u001b[0m\u001b[0;34m(\u001b[0m\u001b[0mX\u001b[0m\u001b[0;34m,\u001b[0m \u001b[0my\u001b[0m\u001b[0;34m)\u001b[0m\u001b[0;34m)\u001b[0m\u001b[0;34m\u001b[0m\u001b[0;34m\u001b[0m\u001b[0m\n\u001b[0;32m----> 3\u001b[0;31m \u001b[0;32mfor\u001b[0m \u001b[0;34m(\u001b[0m\u001b[0mx\u001b[0m\u001b[0;34m,\u001b[0m \u001b[0my\u001b[0m\u001b[0;34m)\u001b[0m \u001b[0;32min\u001b[0m \u001b[0ml\u001b[0m\u001b[0;34m:\u001b[0m\u001b[0;34m\u001b[0m\u001b[0;34m\u001b[0m\u001b[0m\n\u001b[0m\u001b[1;32m      4\u001b[0m     \u001b[0mtime\u001b[0m\u001b[0;34m.\u001b[0m\u001b[0msleep\u001b[0m\u001b[0;34m(\u001b[0m\u001b[0;36m0.1\u001b[0m\u001b[0;34m)\u001b[0m\u001b[0;34m\u001b[0m\u001b[0;34m\u001b[0m\u001b[0m\n",
      "\u001b[0;31mValueError\u001b[0m: too many values to unpack (expected 2)"
     ]
    }
   ],
   "source": [
    "import time\n",
    "l = tqdm.tqdm((X, y))\n",
    "for (x, y) in l:\n",
    "    time.sleep(0.1)"
   ]
  },
  {
   "cell_type": "code",
   "execution_count": null,
   "metadata": {
    "id": "bTPWYGwd6sI9"
   },
   "outputs": [],
   "source": []
  },
  {
   "cell_type": "code",
   "execution_count": null,
   "metadata": {
    "id": "paTdyPHu5Bx0"
   },
   "outputs": [],
   "source": []
  },
  {
   "cell_type": "code",
   "execution_count": null,
   "metadata": {
    "colab": {
     "base_uri": "https://localhost:8080/",
     "height": 604
    },
    "id": "0B1xKjOmxErn",
    "outputId": "8c269d9f-50fb-4ae2-fa7b-99370071b71d"
   },
   "outputs": [
    {
     "name": "stdout",
     "output_type": "stream",
     "text": [
      "Achieves (3.001484703654448, 1e-05)-DP\n",
      "tensor([[[1687.8270,  -27.6370, -234.4076, -266.1989,  458.8726, -459.3125,\n",
      "            49.4550,  414.9841,   73.7365,  257.8884, -417.3697,    8.5458,\n",
      "          -151.2217, -264.7183, -273.7069,  163.3416,  429.3411,   64.4026,\n",
      "           -33.8287, -201.7081, -459.6727,   55.5027, -326.0295,  379.1437,\n",
      "           334.2971,  -85.1494,  -64.2280,  -77.3139, -160.3390,   75.2707,\n",
      "            -6.2583,  186.5017, -142.1675,  170.6958, -424.6932, -121.7693,\n",
      "           135.5125,  119.6756,  158.1014,  -14.2701, -186.3714,  -91.5073,\n",
      "          -241.6966,   37.4189,   43.8015,   49.5008,   84.6287,   84.7137,\n",
      "            69.4251, -174.8053,   78.0787,  151.1046, -124.2576,   47.2992,\n",
      "           -38.6829,  -30.3598,  146.3357,   48.1629,   84.9712,  -60.5954]]]) tensor([[[0., 0., 0., 0., 0., 0., 0., 0., 0., 0.]]],\n",
      "       grad_fn=<LogSoftmaxBackward>) tensor([3])\n",
      "tensor(0., grad_fn=<NllLossBackward>)\n"
     ]
    },
    {
     "ename": "AttributeError",
     "evalue": "ignored",
     "output_type": "error",
     "traceback": [
      "\u001b[0;31m---------------------------------------------------------------------------\u001b[0m",
      "\u001b[0;31mAttributeError\u001b[0m                            Traceback (most recent call last)",
      "\u001b[0;32m<ipython-input-222-c9bc38423453>\u001b[0m in \u001b[0;36m<module>\u001b[0;34m()\u001b[0m\n\u001b[1;32m    136\u001b[0m 'noise_multiplier':1.1}\n\u001b[1;32m    137\u001b[0m \u001b[0;34m\u001b[0m\u001b[0m\n\u001b[0;32m--> 138\u001b[0;31m \u001b[0mclassifier\u001b[0m \u001b[0;34m=\u001b[0m \u001b[0mtrain\u001b[0m\u001b[0;34m(\u001b[0m\u001b[0mparams\u001b[0m\u001b[0;34m)\u001b[0m\u001b[0;34m\u001b[0m\u001b[0;34m\u001b[0m\u001b[0m\n\u001b[0m\u001b[1;32m    139\u001b[0m \u001b[0;34m\u001b[0m\u001b[0m\n\u001b[1;32m    140\u001b[0m \u001b[0;32mwith\u001b[0m \u001b[0mopen\u001b[0m\u001b[0;34m(\u001b[0m\u001b[0;34m'dp_classifier.dat'\u001b[0m\u001b[0;34m,\u001b[0m \u001b[0;34m'wb'\u001b[0m\u001b[0;34m)\u001b[0m \u001b[0;32mas\u001b[0m \u001b[0mf\u001b[0m\u001b[0;34m:\u001b[0m\u001b[0;34m\u001b[0m\u001b[0;34m\u001b[0m\u001b[0m\n",
      "\u001b[0;32m<ipython-input-222-c9bc38423453>\u001b[0m in \u001b[0;36mtrain\u001b[0;34m(params)\u001b[0m\n\u001b[1;32m    115\u001b[0m             \u001b[0mloss\u001b[0m\u001b[0;34m.\u001b[0m\u001b[0mbackward\u001b[0m\u001b[0;34m(\u001b[0m\u001b[0;34m)\u001b[0m\u001b[0;34m\u001b[0m\u001b[0;34m\u001b[0m\u001b[0m\n\u001b[1;32m    116\u001b[0m             \u001b[0moptimizer\u001b[0m\u001b[0;34m.\u001b[0m\u001b[0mmicrobatch_step\u001b[0m\u001b[0;34m(\u001b[0m\u001b[0;34m)\u001b[0m\u001b[0;34m\u001b[0m\u001b[0;34m\u001b[0m\u001b[0m\n\u001b[0;32m--> 117\u001b[0;31m         \u001b[0moptimizer\u001b[0m\u001b[0;34m.\u001b[0m\u001b[0mstep\u001b[0m\u001b[0;34m(\u001b[0m\u001b[0;34m)\u001b[0m\u001b[0;34m\u001b[0m\u001b[0;34m\u001b[0m\u001b[0m\n\u001b[0m\u001b[1;32m    118\u001b[0m \u001b[0;34m\u001b[0m\u001b[0m\n\u001b[1;32m    119\u001b[0m         \u001b[0;32mif\u001b[0m \u001b[0miteration\u001b[0m \u001b[0;34m%\u001b[0m \u001b[0;36m10\u001b[0m \u001b[0;34m==\u001b[0m \u001b[0;36m0\u001b[0m\u001b[0;34m:\u001b[0m\u001b[0;34m\u001b[0m\u001b[0;34m\u001b[0m\u001b[0m\n",
      "\u001b[0;32m/content/pyvacy/pyvacy/optim/dp_optimizer.py\u001b[0m in \u001b[0;36mstep\u001b[0;34m(self, *args, **kwargs)\u001b[0m\n\u001b[1;32m     45\u001b[0m                 \u001b[0;32mfor\u001b[0m \u001b[0mparam\u001b[0m\u001b[0;34m,\u001b[0m \u001b[0maccum_grad\u001b[0m \u001b[0;32min\u001b[0m \u001b[0mzip\u001b[0m\u001b[0;34m(\u001b[0m\u001b[0mgroup\u001b[0m\u001b[0;34m[\u001b[0m\u001b[0;34m'params'\u001b[0m\u001b[0;34m]\u001b[0m\u001b[0;34m,\u001b[0m \u001b[0mgroup\u001b[0m\u001b[0;34m[\u001b[0m\u001b[0;34m'accum_grads'\u001b[0m\u001b[0;34m]\u001b[0m\u001b[0;34m)\u001b[0m\u001b[0;34m:\u001b[0m\u001b[0;34m\u001b[0m\u001b[0;34m\u001b[0m\u001b[0m\n\u001b[1;32m     46\u001b[0m                     \u001b[0;32mif\u001b[0m \u001b[0mparam\u001b[0m\u001b[0;34m.\u001b[0m\u001b[0mrequires_grad\u001b[0m\u001b[0;34m:\u001b[0m\u001b[0;34m\u001b[0m\u001b[0;34m\u001b[0m\u001b[0m\n\u001b[0;32m---> 47\u001b[0;31m                         \u001b[0mparam\u001b[0m\u001b[0;34m.\u001b[0m\u001b[0mgrad\u001b[0m\u001b[0;34m.\u001b[0m\u001b[0mdata\u001b[0m \u001b[0;34m=\u001b[0m \u001b[0maccum_grad\u001b[0m\u001b[0;34m.\u001b[0m\u001b[0mclone\u001b[0m\u001b[0;34m(\u001b[0m\u001b[0;34m)\u001b[0m\u001b[0;34m\u001b[0m\u001b[0;34m\u001b[0m\u001b[0m\n\u001b[0m\u001b[1;32m     48\u001b[0m                         \u001b[0mparam\u001b[0m\u001b[0;34m.\u001b[0m\u001b[0mgrad\u001b[0m\u001b[0;34m.\u001b[0m\u001b[0mdata\u001b[0m\u001b[0;34m.\u001b[0m\u001b[0madd_\u001b[0m\u001b[0;34m(\u001b[0m\u001b[0mself\u001b[0m\u001b[0;34m.\u001b[0m\u001b[0ml2_norm_clip\u001b[0m \u001b[0;34m*\u001b[0m \u001b[0mself\u001b[0m\u001b[0;34m.\u001b[0m\u001b[0mnoise_multiplier\u001b[0m \u001b[0;34m*\u001b[0m \u001b[0mtorch\u001b[0m\u001b[0;34m.\u001b[0m\u001b[0mrandn_like\u001b[0m\u001b[0;34m(\u001b[0m\u001b[0mparam\u001b[0m\u001b[0;34m.\u001b[0m\u001b[0mgrad\u001b[0m\u001b[0;34m.\u001b[0m\u001b[0mdata\u001b[0m\u001b[0;34m)\u001b[0m\u001b[0;34m)\u001b[0m\u001b[0;34m\u001b[0m\u001b[0;34m\u001b[0m\u001b[0m\n\u001b[1;32m     49\u001b[0m                         \u001b[0mparam\u001b[0m\u001b[0;34m.\u001b[0m\u001b[0mgrad\u001b[0m\u001b[0;34m.\u001b[0m\u001b[0mdata\u001b[0m\u001b[0;34m.\u001b[0m\u001b[0mmul_\u001b[0m\u001b[0;34m(\u001b[0m\u001b[0mself\u001b[0m\u001b[0;34m.\u001b[0m\u001b[0mmicrobatch_size\u001b[0m \u001b[0;34m/\u001b[0m \u001b[0mself\u001b[0m\u001b[0;34m.\u001b[0m\u001b[0mminibatch_size\u001b[0m\u001b[0;34m)\u001b[0m\u001b[0;34m\u001b[0m\u001b[0;34m\u001b[0m\u001b[0m\n",
      "\u001b[0;31mAttributeError\u001b[0m: 'NoneType' object has no attribute 'data'"
     ]
    }
   ],
   "source": [
    "import sys\n",
    "\n",
    "import argparse\n",
    "import numpy as np\n",
    "\n",
    "import torch\n",
    "import torch.nn as nn\n",
    "from torch.utils.data import TensorDataset\n",
    "from torchvision import datasets, transforms\n",
    "\n",
    "from pyvacy import optim, analysis, sampling\n",
    "\n",
    "\n",
    "# Deterministic output\n",
    "torch.manual_seed(0)\n",
    "np.random.seed(0)\n",
    "\n",
    "class Flatten(nn.Module):\n",
    "    def forward(self, inp):\n",
    "        return inp.reshape(inp.shape[0], -1)\n",
    "\n",
    "class Classifier(nn.Module):\n",
    "    def __init__(self, input_dim, device='cpu'):\n",
    "        super(Classifier, self).__init__()\n",
    "        self.model = nn.Sequential(\n",
    "            nn.Conv2d(1, 16, 8, 2),\n",
    "            nn.ReLU(),\n",
    "            nn.MaxPool2d(2, 1),\n",
    "            nn.Conv2d(16, 32, 4, 2),\n",
    "            nn.ReLU(),\n",
    "            nn.MaxPool2d(2, 1),\n",
    "            Flatten(),\n",
    "            nn.Linear(288, 10),\n",
    "            nn.LogSoftmax(dim=1)\n",
    "        ).to(device)\n",
    "\n",
    "    def forward(self, x):\n",
    "        return self.model(x)\n",
    "\n",
    "class simpleClf(nn.Module):\n",
    "    def __init__(self, input_dim, device='cpu'):\n",
    "        super(simpleClf, self).__init__()\n",
    "        self.model = nn.Sequential(\n",
    "            nn.Linear(60, 1000),\n",
    "            nn.ReLU(),\n",
    "            nn.Linear(1000, 10),\n",
    "            nn.LogSoftmax(dim=1)\n",
    "        ).to(device)\n",
    "\n",
    "    def forward(self, x):\n",
    "        return self.model(x)\n",
    "\n",
    "\n",
    "def train(params):\n",
    "    # train_dataset = datasets.MNIST('data/mnist',\n",
    "    #     train=True,\n",
    "    #     download=True,\n",
    "    #     transform=transforms.Compose([\n",
    "    #        transforms.ToTensor(),\n",
    "    #        transforms.Normalize((0.5,), (0.5,))\n",
    "    #     ])\n",
    "    # )\n",
    "    train_dataset = Xp\n",
    "\n",
    "    classifier = simpleClf(\n",
    "        # input_dim=np.prod(train_dataset[0][0].shape),\n",
    "        input_dim = 60,\n",
    "        device=params['device']\n",
    "    )\n",
    "\n",
    "    optimizer = optim.DPSGD(\n",
    "        l2_norm_clip=params['l2_norm_clip'],\n",
    "        noise_multiplier=params['noise_multiplier'],\n",
    "        minibatch_size=params['minibatch_size'],\n",
    "        microbatch_size=params['microbatch_size'],\n",
    "        params=classifier.parameters(),\n",
    "        lr=params['lr'],\n",
    "        weight_decay=params['l2_penalty'],\n",
    "    )\n",
    "\n",
    "    print('Achieves ({}, {})-DP'.format(\n",
    "        analysis.epsilon(\n",
    "            len(train_dataset),\n",
    "            params['minibatch_size'],\n",
    "            params['noise_multiplier'],\n",
    "            params['iterations'],\n",
    "            params['delta']\n",
    "        ),\n",
    "        params['delta'],\n",
    "    ))\n",
    "\n",
    "    loss_function = nn.NLLLoss()\n",
    "\n",
    "    minibatch_loader, microbatch_loader = sampling.get_data_loaders(\n",
    "        params['minibatch_size'],\n",
    "        params['microbatch_size'],\n",
    "        params['iterations']\n",
    "    )\n",
    "\n",
    "    iteration = 0\n",
    "    for X_minibatch, y_minibatch in minibatch_loader(TensorDataset(Xp, y)):\n",
    "    # for X_minibatch, y_minibatch in minibatch_loader(train_dataset):\n",
    "\n",
    "        optimizer.zero_grad()\n",
    "        for X_microbatch, y_microbatch in microbatch_loader(TensorDataset(X_minibatch, y_minibatch)):\n",
    "            X_microbatch = X_microbatch.to(params['device'])\n",
    "            y_microbatch = y_microbatch.to(params['device'])\n",
    "  \n",
    "            optimizer.zero_microbatch_grad()\n",
    "            pred = classifier(X_microbatch)#.argmax(dim=2)\n",
    "            print(X_microbatch, pred, y_microbatch)\n",
    "            loss = loss_function(pred.view(1, 10).float(), y_microbatch)\n",
    "            print(loss)\n",
    "            break\n",
    "            loss.backward()\n",
    "            optimizer.microbatch_step()\n",
    "        optimizer.step()\n",
    "\n",
    "        if iteration % 10 == 0:\n",
    "            print('[Iteration %d/%d] [Loss: %f]' % (iteration, params['iterations'], loss.item()))\n",
    "        iteration += 1\n",
    "\n",
    "    return classifier\n",
    "\n",
    "\n",
    "\n",
    "params = {\n",
    "'delta': 1e-5,\n",
    "'device': 'cpu',\n",
    "'iterations': 14000,\n",
    "'l2_norm_clip': 1.,\n",
    "'l2_penalty':0.001, \n",
    "'lr': 0.15,\n",
    "'microbatch_size':1,\n",
    "'minibatch_size':256,\n",
    "'noise_multiplier':1.1}\n",
    "\n",
    "classifier = train(params)\n",
    "\n",
    "with open('dp_classifier.dat', 'wb') as f:\n",
    "    torch.save(classifier, f)\n",
    "\n",
    "test_dataset = datasets.MNIST('data/mnist',\n",
    "    train=False,\n",
    "    download=True,\n",
    "    transform=transforms.Compose([\n",
    "        transforms.ToTensor(),\n",
    "        transforms.Normalize((0.5,), (0.5,))\n",
    "    ])\n",
    ")\n",
    "\n",
    "X, y = next(iter(DataLoader(test_dataset, batch_size=len(test_dataset))))\n",
    "X, y  = X.to('cuda'), y.to('cuda')\n",
    "\n",
    "y_pred = classifier(X).max(1)[1]\n",
    "\n",
    "count = 0.\n",
    "correct = 0.\n",
    "for pred, actual in zip(y_pred, y):\n",
    "    if pred.item() == actual.item():\n",
    "        correct += 1.\n",
    "    count += 1.\n",
    "print('Test Accuracy: {}'.format(correct / count))\n"
   ]
  },
  {
   "cell_type": "code",
   "execution_count": null,
   "metadata": {
    "colab": {
     "base_uri": "https://localhost:8080/",
     "height": 165
    },
    "id": "-cqZfyNplqcl",
    "outputId": "84335f9c-d66a-4ebb-81c7-330522d0ce18"
   },
   "outputs": [
    {
     "ename": "NameError",
     "evalue": "ignored",
     "output_type": "error",
     "traceback": [
      "\u001b[0;31m---------------------------------------------------------------------------\u001b[0m",
      "\u001b[0;31mNameError\u001b[0m                                 Traceback (most recent call last)",
      "\u001b[0;32m<ipython-input-198-c6fc79dbd350>\u001b[0m in \u001b[0;36m<module>\u001b[0;34m()\u001b[0m\n\u001b[0;32m----> 1\u001b[0;31m \u001b[0mpred\u001b[0m\u001b[0;34m\u001b[0m\u001b[0;34m\u001b[0m\u001b[0m\n\u001b[0m",
      "\u001b[0;31mNameError\u001b[0m: name 'pred' is not defined"
     ]
    }
   ],
   "source": []
  },
  {
   "cell_type": "code",
   "execution_count": null,
   "metadata": {
    "colab": {
     "base_uri": "https://localhost:8080/",
     "height": 35
    },
    "id": "cuNRBBssg5x8",
    "outputId": "f3082a75-599b-40d3-88e7-39b3a61c0e9a"
   },
   "outputs": [
    {
     "data": {
      "text/plain": [
       "tensor(0.)"
      ]
     },
     "execution_count": 138,
     "metadata": {
      "tags": []
     },
     "output_type": "execute_result"
    }
   ],
   "source": [
    "[]"
   ]
  },
  {
   "cell_type": "code",
   "execution_count": null,
   "metadata": {
    "colab": {
     "base_uri": "https://localhost:8080/",
     "height": 52
    },
    "id": "OBsy_KjCYjsV",
    "outputId": "4728f7d5-960a-4cca-8cbd-0e59e6bf44a1"
   },
   "outputs": [
    {
     "name": "stdout",
     "output_type": "stream",
     "text": [
      "torch.Size([281, 1, 28, 28]) torch.Size([281])\n",
      "torch.Size([1, 1, 28, 28]) torch.Size([1])\n"
     ]
    }
   ],
   "source": [
    "    minibatch_loader, microbatch_loader = sampling.get_data_loaders(\n",
    "        params['minibatch_size'],\n",
    "        params['microbatch_size'],\n",
    "        params['iterations']\n",
    "    )\n",
    "train_dataset = datasets.MNIST('data/mnist',\n",
    "    train=True,\n",
    "    download=True,\n",
    "    transform=transforms.Compose([\n",
    "        transforms.ToTensor(),\n",
    "        transforms.Normalize((0.5,), (0.5,))]))\n",
    "    \n",
    "\n",
    "\n",
    "\n",
    "    for X_minibatch, y_minibatch in minibatch_loader(train_dataset):\n",
    "        print(X_minibatch.shape, y_minibatch.shape)\n",
    "        for X_microbatch, y_microbatch in microbatch_loader(TensorDataset(X_minibatch, y_minibatch)):\n",
    "            print(X_microbatch.shape, y_microbatch.shape)\n",
    "            break\n",
    "        break\n",
    "\n"
   ]
  },
  {
   "cell_type": "code",
   "execution_count": null,
   "metadata": {
    "colab": {
     "base_uri": "https://localhost:8080/",
     "height": 1000
    },
    "id": "3T-q3vnRY-Wi",
    "outputId": "d791d632-e04d-49f6-8c37-f7395155c65b"
   },
   "outputs": [
    {
     "name": "stderr",
     "output_type": "stream",
     "text": [
      "/usr/local/lib/python3.6/dist-packages/torchvision/datasets/mnist.py:55: UserWarning: train_data has been renamed data\n",
      "  warnings.warn(\"train_data has been renamed data\")\n"
     ]
    },
    {
     "data": {
      "text/plain": [
       "tensor([[  0,   0,   0,   0,   0,   0,   0,   0,   0,   0,   0,   0,   0,   0,\n",
       "           0,   0,   0,   0,   0,   0,   0,   0,   0,   0,   0,   0,   0,   0],\n",
       "        [  0,   0,   0,   0,   0,   0,   0,   0,   0,   0,   0,   0,   0,   0,\n",
       "           0,   0,   0,   0,   0,   0,   0,   0,   0,   0,   0,   0,   0,   0],\n",
       "        [  0,   0,   0,   0,   0,   0,   0,   0,   0,   0,   0,   0,   0,   0,\n",
       "           0,   0,   0,   0,   0,   0,   0,   0,   0,   0,   0,   0,   0,   0],\n",
       "        [  0,   0,   0,   0,   0,   0,   0,   0,   0,   0,   0,   0,   0,   0,\n",
       "           0,   0,   0,   0,   0,   0,   0,   0,   0,   0,   0,   0,   0,   0],\n",
       "        [  0,   0,   0,   0,   0,   0,   0,   0,   0,   0,   0,   0,   0,   0,\n",
       "           0,   0,   0,   0,   0,   0,   0,   0,   0,   0,   0,   0,   0,   0],\n",
       "        [  0,   0,   0,   0,   0,   0,   0,   0,   0,   0,   0,   0,   3,  18,\n",
       "          18,  18, 126, 136, 175,  26, 166, 255, 247, 127,   0,   0,   0,   0],\n",
       "        [  0,   0,   0,   0,   0,   0,   0,   0,  30,  36,  94, 154, 170, 253,\n",
       "         253, 253, 253, 253, 225, 172, 253, 242, 195,  64,   0,   0,   0,   0],\n",
       "        [  0,   0,   0,   0,   0,   0,   0,  49, 238, 253, 253, 253, 253, 253,\n",
       "         253, 253, 253, 251,  93,  82,  82,  56,  39,   0,   0,   0,   0,   0],\n",
       "        [  0,   0,   0,   0,   0,   0,   0,  18, 219, 253, 253, 253, 253, 253,\n",
       "         198, 182, 247, 241,   0,   0,   0,   0,   0,   0,   0,   0,   0,   0],\n",
       "        [  0,   0,   0,   0,   0,   0,   0,   0,  80, 156, 107, 253, 253, 205,\n",
       "          11,   0,  43, 154,   0,   0,   0,   0,   0,   0,   0,   0,   0,   0],\n",
       "        [  0,   0,   0,   0,   0,   0,   0,   0,   0,  14,   1, 154, 253,  90,\n",
       "           0,   0,   0,   0,   0,   0,   0,   0,   0,   0,   0,   0,   0,   0],\n",
       "        [  0,   0,   0,   0,   0,   0,   0,   0,   0,   0,   0, 139, 253, 190,\n",
       "           2,   0,   0,   0,   0,   0,   0,   0,   0,   0,   0,   0,   0,   0],\n",
       "        [  0,   0,   0,   0,   0,   0,   0,   0,   0,   0,   0,  11, 190, 253,\n",
       "          70,   0,   0,   0,   0,   0,   0,   0,   0,   0,   0,   0,   0,   0],\n",
       "        [  0,   0,   0,   0,   0,   0,   0,   0,   0,   0,   0,   0,  35, 241,\n",
       "         225, 160, 108,   1,   0,   0,   0,   0,   0,   0,   0,   0,   0,   0],\n",
       "        [  0,   0,   0,   0,   0,   0,   0,   0,   0,   0,   0,   0,   0,  81,\n",
       "         240, 253, 253, 119,  25,   0,   0,   0,   0,   0,   0,   0,   0,   0],\n",
       "        [  0,   0,   0,   0,   0,   0,   0,   0,   0,   0,   0,   0,   0,   0,\n",
       "          45, 186, 253, 253, 150,  27,   0,   0,   0,   0,   0,   0,   0,   0],\n",
       "        [  0,   0,   0,   0,   0,   0,   0,   0,   0,   0,   0,   0,   0,   0,\n",
       "           0,  16,  93, 252, 253, 187,   0,   0,   0,   0,   0,   0,   0,   0],\n",
       "        [  0,   0,   0,   0,   0,   0,   0,   0,   0,   0,   0,   0,   0,   0,\n",
       "           0,   0,   0, 249, 253, 249,  64,   0,   0,   0,   0,   0,   0,   0],\n",
       "        [  0,   0,   0,   0,   0,   0,   0,   0,   0,   0,   0,   0,   0,   0,\n",
       "          46, 130, 183, 253, 253, 207,   2,   0,   0,   0,   0,   0,   0,   0],\n",
       "        [  0,   0,   0,   0,   0,   0,   0,   0,   0,   0,   0,   0,  39, 148,\n",
       "         229, 253, 253, 253, 250, 182,   0,   0,   0,   0,   0,   0,   0,   0],\n",
       "        [  0,   0,   0,   0,   0,   0,   0,   0,   0,   0,  24, 114, 221, 253,\n",
       "         253, 253, 253, 201,  78,   0,   0,   0,   0,   0,   0,   0,   0,   0],\n",
       "        [  0,   0,   0,   0,   0,   0,   0,   0,  23,  66, 213, 253, 253, 253,\n",
       "         253, 198,  81,   2,   0,   0,   0,   0,   0,   0,   0,   0,   0,   0],\n",
       "        [  0,   0,   0,   0,   0,   0,  18, 171, 219, 253, 253, 253, 253, 195,\n",
       "          80,   9,   0,   0,   0,   0,   0,   0,   0,   0,   0,   0,   0,   0],\n",
       "        [  0,   0,   0,   0,  55, 172, 226, 253, 253, 253, 253, 244, 133,  11,\n",
       "           0,   0,   0,   0,   0,   0,   0,   0,   0,   0,   0,   0,   0,   0],\n",
       "        [  0,   0,   0,   0, 136, 253, 253, 253, 212, 135, 132,  16,   0,   0,\n",
       "           0,   0,   0,   0,   0,   0,   0,   0,   0,   0,   0,   0,   0,   0],\n",
       "        [  0,   0,   0,   0,   0,   0,   0,   0,   0,   0,   0,   0,   0,   0,\n",
       "           0,   0,   0,   0,   0,   0,   0,   0,   0,   0,   0,   0,   0,   0],\n",
       "        [  0,   0,   0,   0,   0,   0,   0,   0,   0,   0,   0,   0,   0,   0,\n",
       "           0,   0,   0,   0,   0,   0,   0,   0,   0,   0,   0,   0,   0,   0],\n",
       "        [  0,   0,   0,   0,   0,   0,   0,   0,   0,   0,   0,   0,   0,   0,\n",
       "           0,   0,   0,   0,   0,   0,   0,   0,   0,   0,   0,   0,   0,   0]],\n",
       "       dtype=torch.uint8)"
      ]
     },
     "execution_count": 59,
     "metadata": {
      "tags": []
     },
     "output_type": "execute_result"
    }
   ],
   "source": [
    "train_dataset.train_data[0]"
   ]
  },
  {
   "cell_type": "code",
   "execution_count": null,
   "metadata": {
    "id": "6ZTzRiQJxvoo"
   },
   "outputs": [],
   "source": []
  }
 ],
 "metadata": {
  "colab": {
   "collapsed_sections": [],
   "name": "DPSGD.ipynb",
   "provenance": []
  },
  "kernelspec": {
   "display_name": "Python 3",
   "language": "python",
   "name": "python3"
  },
  "language_info": {
   "codemirror_mode": {
    "name": "ipython",
    "version": 3
   },
   "file_extension": ".py",
   "mimetype": "text/x-python",
   "name": "python",
   "nbconvert_exporter": "python",
   "pygments_lexer": "ipython3",
   "version": "3.7.9"
  }
 },
 "nbformat": 4,
 "nbformat_minor": 1
}
